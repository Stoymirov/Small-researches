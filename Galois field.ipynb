{
 "cells": [
  {
   "cell_type": "markdown",
   "id": "ae6a9cdb-5f7c-49a7-b303-1b161ab48f88",
   "metadata": {},
   "source": [
    "## What is a Galois filed ##"
   ]
  },
  {
   "cell_type": "markdown",
   "id": "529c15cd-3de7-4f8b-9a86-8155cf4d2f2a",
   "metadata": {},
   "source": [
    "A Galois field in mathematics is also know as a **Finite field.** It is a set of numbers that is finite and has two operations in it - **multiplication and addition.** Furthermore each number that is a result of one of those two operations on numbers of the set is also in the set. It is used in coding, error correction, crypthography, etc."
   ]
  },
  {
   "cell_type": "markdown",
   "id": "281299fd-4082-4b7f-8d25-673a16007dc4",
   "metadata": {},
   "source": [
    "### Specifics ###"
   ]
  },
  {
   "cell_type": "markdown",
   "id": "9cf2b79b-26c8-47df-bce8-f2ef7df6a3e6",
   "metadata": {},
   "source": [
    "- It is alsways finite.\n",
    "- It is closed, meaning operations on elemnts are also in the set\n",
    "- It is commutative, associative and distributive\n",
    "- There are 2 identity elements: 0 for addition(any number added to zero is the same number), 1 for multiplication\n",
    "- Has inverse elements, negative for addition and reciprocal for multiplication\n",
    "- The result of addition or multiplication becomes modulo $p$, where $p$ is the size of the set"
   ]
  },
  {
   "cell_type": "markdown",
   "id": "06635454-c44a-41b2-83c7-0abef609df78",
   "metadata": {},
   "source": [
    "For example $2+1 = 3$ would become 0 in GF(3) since $3$ is congruent to $0$ modulo $3$"
   ]
  },
  {
   "cell_type": "markdown",
   "id": "ae08e931-11e6-45a7-8a15-ac3d3e98103b",
   "metadata": {},
   "source": [
    "It is important to note that in $\\text{GF}(2)$ addition is equivalent to XOR and multiplication is equivalent to AND."
   ]
  },
  {
   "cell_type": "code",
   "execution_count": 1,
   "id": "d08c609b-3759-4e61-990b-806cfc5f298e",
   "metadata": {},
   "outputs": [
    {
     "name": "stdout",
     "output_type": "stream",
     "text": [
      "a + b = 2\n",
      "a * b = 2\n",
      "a / b = 2\n"
     ]
    }
   ],
   "source": [
    "class GF5:\n",
    "    def __init__(self, value):\n",
    "        self.value = value % 5\n",
    "\n",
    "    def __add__(self, other):\n",
    "        return GF5((self.value + other.value) % 5)\n",
    "\n",
    "    def __sub__(self, other):\n",
    "        return GF5((self.value - other.value) % 5)\n",
    "\n",
    "    def __mul__(self, other):\n",
    "        return GF5((self.value * other.value) % 5)\n",
    "\n",
    "    def __truediv__(self, other):\n",
    "        # Find the multiplicative inverse\n",
    "        for i in range(1, 5):\n",
    "            if (other.value * i) % 5 == 1:\n",
    "                return GF5((self.value * i) % 5)\n",
    "        raise ValueError(\"No inverse exists\")\n",
    "\n",
    "    def __repr__(self):\n",
    "        return f\"{self.value}\"\n",
    "\n",
    "a = GF5(3)\n",
    "b = GF5(4)\n",
    "print(f\"a + b = {a + b}\")  \n",
    "print(f\"a * b = {a * b}\")\n",
    "print(f\"a / b = {a / b}\") "
   ]
  },
  {
   "cell_type": "markdown",
   "id": "64a70ac2-51aa-4eef-aefc-1929bfb557e0",
   "metadata": {},
   "source": [
    "This was an example of how a set of 5 elements would work with basic operations"
   ]
  },
  {
   "cell_type": "markdown",
   "id": "80657d3b-4d7f-4ff5-bd66-331ea36df8cb",
   "metadata": {},
   "source": [
    "### Primitive element ###"
   ]
  },
  {
   "cell_type": "markdown",
   "id": "c2df82d9-2575-4e39-a21b-3fc56d2e0023",
   "metadata": {},
   "source": [
    "A primitive element is an element in the set that can generate all non-zero elements of the field."
   ]
  },
  {
   "cell_type": "markdown",
   "id": "080184c6-439b-48b7-8f2e-b81251f3f70c",
   "metadata": {},
   "source": [
    "### Application of fields with more elements ###"
   ]
  },
  {
   "cell_type": "markdown",
   "id": "d3819e5f-feb2-459f-a8ae-16e6919c0a47",
   "metadata": {},
   "source": [
    "- $\\text{GF}(2^8)$ is used in **AES encryption**\n",
    "- $\\text{GF}(2^4)$ $\\text{GF}(2^{16})$  used in error correction"
   ]
  },
  {
   "cell_type": "markdown",
   "id": "e6a78bb6-cacd-4788-96dd-717dad4dbc15",
   "metadata": {},
   "source": [
    "### Perfect security ###"
   ]
  },
  {
   "cell_type": "markdown",
   "id": "24ba932b-20cb-4c73-afc1-a26def952ce6",
   "metadata": {},
   "source": [
    "Here we can inlude the concept of **perfect security.** The idea behind is that even having all the computational power it would not be possible to get access to the information. Mathematically: $$P(M = m \\mid C = c) = P(M = m)$$"
   ]
  },
  {
   "cell_type": "markdown",
   "id": "9c1306c4-c450-43f4-84b8-4424e3e28c03",
   "metadata": {},
   "source": [
    "References\n",
    "- https://www.geeksforgeeks.org/galois-fields-and-its-properties/"
   ]
  },
  {
   "cell_type": "code",
   "execution_count": null,
   "id": "76258baf-ff6f-4783-a8d3-83f2c35d646e",
   "metadata": {},
   "outputs": [],
   "source": []
  }
 ],
 "metadata": {
  "kernelspec": {
   "display_name": "Python 3 (ipykernel)",
   "language": "python",
   "name": "python3"
  },
  "language_info": {
   "codemirror_mode": {
    "name": "ipython",
    "version": 3
   },
   "file_extension": ".py",
   "mimetype": "text/x-python",
   "name": "python",
   "nbconvert_exporter": "python",
   "pygments_lexer": "ipython3",
   "version": "3.11.4"
  }
 },
 "nbformat": 4,
 "nbformat_minor": 5
}
