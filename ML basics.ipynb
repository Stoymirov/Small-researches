{
 "cells": [
  {
   "cell_type": "code",
   "execution_count": 30,
   "id": "3ce7a42b-f99c-402c-ab2b-860d7ac7cd26",
   "metadata": {},
   "outputs": [],
   "source": [
    "import numpy as np\n",
    "from sklearn.linear_model import Ridge, Lasso, RidgeCV, LassoCV\n",
    "from sklearn.datasets import make_regression\n",
    "import matplotlib.pyplot as plt\n",
    "from sklearn.datasets import make_classification\n",
    "from sklearn.linear_model import LogisticRegression\n",
    "from sklearn.model_selection import train_test_split\n",
    "from sklearn.metrics import accuracy_score\n",
    "from sklearn.model_selection import train_test_split\n",
    "from sklearn import datasets, linear_model, metrics\n",
    "import pandas as pd\n",
    "import seaborn as sns\n",
    "from tensorflow import keras\n",
    "from plotly.subplots import make_subplots\n",
    "import plotly.express as px"
   ]
  },
  {
   "cell_type": "markdown",
   "id": "df742aca-43e8-4df9-b028-93931c0c88ed",
   "metadata": {},
   "source": [
    "### Linear regression ###"
   ]
  },
  {
   "cell_type": "markdown",
   "id": "c592735f-3428-4fc6-b57e-0e1e1a1e4ec2",
   "metadata": {},
   "source": [
    "We call Y the dependent variable and X is the independent variable or the predictor of Y. To get used with the terminology:\n",
    "\n"
   ]
  },
  {
   "cell_type": "markdown",
   "id": "0ac95583-412b-47d2-84ba-0700141e0255",
   "metadata": {},
   "source": [
    "### Rigde regression ###"
   ]
  },
  {
   "cell_type": "markdown",
   "id": "a6c34802-3c84-4fcb-a76e-2ea232142222",
   "metadata": {},
   "source": [
    "When speaking of linear regression there are some problems that we might encounter. First of all the formula that explains it is:\n",
    "$$\\mathcal{L}({\\beta}) = \\sum_{i=1}^{n} \\left(y_i - \\hat{y}_i \\right)^2 + \\lambda \\sum_{j=1}^{p} \\beta_j^2\n",
    "$$\n",
    "where,\n",
    "- $y_i$ is the true value\n",
    "- $\\hat{y_i}$ is the predicted value\n",
    "- $\\beta_j$ are the model coeff\n",
    "- $\\lambda$ is the regularization strength\n",
    "- $n$ is the number of samples, $p$ is the number of features\n",
    "\n",
    "The idea behind is that we can address **the issue of multicollinearity among predictor variables.** The first part of our equation if the **OLS(ordinary least squares)** and the second part is a **regularization term, reducing variance by penalizing large coeffs**\n",
    "\n",
    "The other issue that we are fighting against is **overfitting**. The introduced regularization term allows us to use smaller coefficients and thus ignore more or less noise allowing for a better explanation of the data. When lambda increases we shrink the coeffs of correlated features reducing the effect of multicollinearity. \n",
    "To understand better look at the following picture:\n",
    "![Ridge](https://www.statology.org/wp-content/uploads/2020/11/ridge2-1024x733.png)"
   ]
  },
  {
   "cell_type": "markdown",
   "id": "57f55e34-5c62-4764-a3cb-95f1286f7ac7",
   "metadata": {},
   "source": [
    "From the graph we see something called **Bias-Variance tradeoff.** The whole idea of the Ridge regression is to make a model that can describe the data well. However sometimes choosing the lowest possible bias, for example using LSE could lead to high variance in the testing data. Therefore we adjust the lambda parameter in orther to achieve a good balance. **No overfitting, no underfitting**. "
   ]
  },
  {
   "cell_type": "markdown",
   "id": "f2fd5c97-b734-4d60-b62e-54a28de333df",
   "metadata": {},
   "source": [
    "### Choosing the parameter ###"
   ]
  },
  {
   "cell_type": "markdown",
   "id": "706432d3-c3a3-4998-8720-d3c86ee07663",
   "metadata": {},
   "source": [
    "As we already aid choosing the $\\lambda$ parameter is the key to a good Ridge regression. There are a couple of methods we could do that. The most popular one is using **cross-validation.**\n",
    "\n",
    "The idea behind cross validation is that we divide the data into subsets, train on some, test on the other."
   ]
  },
  {
   "cell_type": "markdown",
   "id": "3c59bc79-01a9-432f-8ecb-23f19228dc9b",
   "metadata": {},
   "source": [
    "### Lasso regression ###"
   ]
  },
  {
   "cell_type": "markdown",
   "id": "8a04a2fe-3947-44b0-8e10-caa8b8763132",
   "metadata": {},
   "source": [
    "Lasso regression(L1 regularization) is another method that is often used when we have lots of features, want to deal with the problem of multicollinearity, have little training data. However it handles the issues in different manners. The formula for the lasso regression is:$$\n",
    "\\mathcal{L}(\\boldsymbol{\\beta}) = \\sum_{i=1}^{n} \\left(y_i - \\hat{y}_i \\right)^2 + \\lambda \\sum_{j=1}^{p} \\left| \\beta_j \\right|\n",
    "$$\n"
   ]
  },
  {
   "cell_type": "markdown",
   "id": "e7b16f1f-f2f4-42b8-bbde-f637160306a7",
   "metadata": {},
   "source": [
    "The main difference between Ridge and Lasso regression is that Lasso regression allows for some of the parameters to be equal to zero, whereas Ridge regression only reduces them asymptotically to zero. This is to say that Lasso regression is appropriate for cases when we know that we have some important features and the others hardly contribute. However when we know that all the features might have some importance Ridge regression is the better approach."
   ]
  },
  {
   "cell_type": "markdown",
   "id": "ddd78616-1437-4be9-b0d8-b68eae35d913",
   "metadata": {},
   "source": [
    "Now we are going to give some practical examples of the things we discussed."
   ]
  },
  {
   "cell_type": "code",
   "execution_count": 5,
   "id": "a0e4ae42-6bec-46a8-a3b7-c7d713b85fe3",
   "metadata": {},
   "outputs": [
    {
     "name": "stdout",
     "output_type": "stream",
     "text": [
      "Real coefs: [79.974115    0.          0.         28.46204847  0.          0.\n",
      " 63.44214434  0.          0.          0.          0.          0.\n",
      " 51.42269599 37.8351338   0.          0.          0.          0.\n",
      "  0.          0.        ]\n",
      "Ridge coeff: [77.4188929   0.34779454  0.63871091 27.9557937  -1.36718829  0.13404866\n",
      " 63.64122841 -0.37268619 -0.62009397  0.81802046  2.26065874  1.08593548\n",
      " 49.82999059 37.32125818  1.4488047   1.36110052  1.17255623  0.59474837\n",
      "  1.06022422  2.09383751]\n",
      "Lasso coeff: [77.64215846  0.          0.         27.15078503 -0.46143604 -0.\n",
      " 63.42104627 -0.         -0.          0.          1.42735036  0.52329546\n",
      " 49.68197168 36.65441557  0.63270716  0.18967176  0.         -0.\n",
      "  0.          0.89626653]\n"
     ]
    }
   ],
   "source": [
    "\n",
    "\n",
    "X, y, coef = make_regression(\n",
    "    n_samples=100,\n",
    "    n_features = 20,\n",
    "    n_informative=5,\n",
    "    noise = 10.0,\n",
    "    coef=True,\n",
    "    random_state=20\n",
    ")\n",
    "\n",
    "#printing the true coefs\n",
    "print(\"Real coefs:\", coef)\n",
    "ridge = Ridge(alpha=1.0)\n",
    "ridge.fit(X,y)\n",
    "\n",
    "lasso = Lasso(alpha=1.0)\n",
    "lasso.fit(X,y)\n",
    "\n",
    "print(\"Ridge coeff:\",ridge.coef_)\n",
    "print(\"Lasso coeff:\",lasso.coef_)"
   ]
  },
  {
   "cell_type": "markdown",
   "id": "899981e8-a8a0-41ee-a360-9f5acc2ae266",
   "metadata": {},
   "source": [
    "As we see from this example both the ridge and lasso coeffs were able to fit nicely. However, as we already discussed, lasso was able to remove some of the features completely, whereas ridge only reduced them asymptotically towards 0.\n",
    "\n",
    "Now let us see which features the lasso finds unnecessary."
   ]
  },
  {
   "cell_type": "code",
   "execution_count": 17,
   "id": "090a70f6-1f77-4e54-b07c-3bf62e24b900",
   "metadata": {},
   "outputs": [
    {
     "name": "stdout",
     "output_type": "stream",
     "text": [
      "\n",
      "Lasso eliminated feature indices: [ 1  2  5  7  8  9 16 17 18]\n"
     ]
    }
   ],
   "source": [
    "zero_coeffs = np.where(lasso.coef_ == 0)[0]\n",
    "print(\"\\nLasso eliminated feature indices:\", zero_coeffs)\n"
   ]
  },
  {
   "cell_type": "markdown",
   "id": "70f725fe-d758-4f70-9be5-af5df7688902",
   "metadata": {},
   "source": [
    "In the code above we have already specified the **alpha** (**lambda**) best for the the fit. However we don't know what it is in general. We are going to use **cross-validation** to decide.\n",
    "\n"
   ]
  },
  {
   "cell_type": "code",
   "execution_count": 18,
   "id": "737b71ca-3bef-49f2-9adb-2f905b16279d",
   "metadata": {},
   "outputs": [
    {
     "name": "stdout",
     "output_type": "stream",
     "text": [
      "Best alpha for Ridge: 1.0\n",
      "Best alphas for Lasso: 1.0\n"
     ]
    }
   ],
   "source": [
    "alphas = [0.01,0.1,1,10,100]\n",
    "\n",
    "ridge_cv = RidgeCV(alphas=alphas,cv = 5)\n",
    "ridge_cv.fit(X,y)\n",
    "\n",
    "print(\"Best alpha for Ridge:\",ridge_cv.alpha_)\n",
    "\n",
    "lasso_cv = LassoCV(alphas=alphas,cv=5)\n",
    "lasso_cv.fit(X,y)\n",
    "\n",
    "print(\"Best alphas for Lasso:\",lasso_cv.alpha_)"
   ]
  },
  {
   "cell_type": "code",
   "execution_count": 16,
   "id": "357fc1fa-89e9-48c2-966a-5d7a88e0854c",
   "metadata": {},
   "outputs": [
    {
     "data": {
      "image/png": "[encoded data removed]",
      "text/plain": [
       "<Figure size 1000x500 with 1 Axes>"
      ]
     },
     "metadata": {},
     "output_type": "display_data"
    }
   ],
   "source": [
    "plt.figure(figsize=(10, 5))\n",
    "plt.plot(coef, 'o-', label='True Coefficients')\n",
    "plt.plot(ridge.coef_, 's--', label='Ridge Coefficients')\n",
    "plt.plot(lasso.coef_, 'x--', label='Lasso Coefficients')\n",
    "plt.axhline(0, color='gray', linestyle='--', linewidth=0.5)\n",
    "plt.legend()\n",
    "plt.title(\"True vs Ridge vs Lasso Coefficients\")\n",
    "plt.xlabel(\"Feature Index\")\n",
    "plt.ylabel(\"Coefficient Value\")\n",
    "plt.grid(True)\n",
    "plt.show()"
   ]
  },
  {
   "cell_type": "markdown",
   "id": "49cda726-ec30-4099-ab7d-9b0eef15153c",
   "metadata": {},
   "source": [
    "**This shows us that ridge and Lasso were both able to find the right coeffs.**"
   ]
  },
  {
   "cell_type": "markdown",
   "id": "2bc04922-1488-46b9-9986-35c0503de572",
   "metadata": {},
   "source": [
    "## Example of a linear regression model\n",
    "\n"
   ]
  },
  {
   "cell_type": "code",
   "execution_count": 4,
   "id": "1e2fb1e7-9350-438e-842a-3af13a31cf97",
   "metadata": {
    "collapsed": true,
    "jupyter": {
     "outputs_hidden": true
    }
   },
   "outputs": [
    {
     "name": "stdout",
     "output_type": "stream",
     "text": [
      "        TRIP_START_TIMESTAMP      TRIP_END_TIMESTAMP  TRIP_START_HOUR  \\\n",
      "0      05/17/2022 7:15:00 AM   05/17/2022 7:45:00 AM             7.25   \n",
      "1      05/17/2022 5:15:00 PM   05/17/2022 5:30:00 PM            17.25   \n",
      "2      05/17/2022 5:15:00 PM   05/17/2022 5:30:00 PM            17.25   \n",
      "3      05/17/2022 6:00:00 PM   05/17/2022 7:00:00 PM            18.00   \n",
      "4      05/17/2022 5:00:00 PM   05/17/2022 5:30:00 PM            17.00   \n",
      "...                      ...                     ...              ...   \n",
      "31689  05/17/2022 1:15:00 PM   05/17/2022 1:30:00 PM            13.25   \n",
      "31690  05/17/2022 9:45:00 PM  05/17/2022 10:15:00 PM            21.75   \n",
      "31691  05/18/2022 3:45:00 AM   05/18/2022 4:00:00 AM             3.75   \n",
      "31692  05/16/2022 2:45:00 PM   05/16/2022 3:30:00 PM            14.75   \n",
      "31693  05/16/2022 9:30:00 PM  05/16/2022 10:00:00 PM            21.50   \n",
      "\n",
      "       TRIP_SECONDS  TRIP_MILES  TRIP_SPEED  PICKUP_CENSUS_TRACT  \\\n",
      "0              2341        2.57         4.0                  NaN   \n",
      "1              1074        1.18         4.0                  NaN   \n",
      "2              1173        1.29         4.0         1.703132e+10   \n",
      "3              3360        3.70         4.0         1.703132e+10   \n",
      "4              1044        1.15         4.0         1.703132e+10   \n",
      "...             ...         ...         ...                  ...   \n",
      "31689           739       13.06        63.6                  NaN   \n",
      "31690          1740       30.90        63.9                  NaN   \n",
      "31691           687       12.21        64.0                  NaN   \n",
      "31692          2040       36.60        64.6                  NaN   \n",
      "31693          2040       36.70        64.8         1.703198e+10   \n",
      "\n",
      "       DROPOFF_CENSUS_TRACT  PICKUP_COMMUNITY_AREA  DROPOFF_COMMUNITY_AREA  \\\n",
      "0                       NaN                    NaN                    17.0   \n",
      "1              1.703108e+10                    NaN                     8.0   \n",
      "2              1.703108e+10                   32.0                     8.0   \n",
      "3              1.703124e+10                   32.0                    24.0   \n",
      "4              1.703108e+10                   32.0                     8.0   \n",
      "...                     ...                    ...                     ...   \n",
      "31689                   NaN                   75.0                    28.0   \n",
      "31690                   NaN                   76.0                     NaN   \n",
      "31691                   NaN                   22.0                     NaN   \n",
      "31692                   NaN                   76.0                     7.0   \n",
      "31693          1.703183e+10                   76.0                    28.0   \n",
      "\n",
      "        FARE   TIPS  TIP_RATE  TOLLS  EXTRAS  TRIP_TOTAL PAYMENT_TYPE  \\\n",
      "0      31.99   2.00       6.3    0.0     0.0       33.99       Mobile   \n",
      "1       9.75   3.00      27.9    0.0     1.0       14.25  Credit Card   \n",
      "2      10.25   0.00       0.0    0.0     0.0       10.25         Cash   \n",
      "3      23.75   0.00       0.0    0.0     1.0       24.75         Cash   \n",
      "4      10.00   0.00       0.0    0.0     0.0       10.00         Cash   \n",
      "...      ...    ...       ...    ...     ...         ...          ...   \n",
      "31689  32.50   0.00       0.0    0.0     0.0       32.50       Prcard   \n",
      "31690  44.50  10.00      13.9    0.0    27.5       82.00  Credit Card   \n",
      "31691  30.75   0.00       0.0    0.0     0.0       30.75       Prcard   \n",
      "31692  41.75  11.55      25.2    0.0     4.0       57.30  Credit Card   \n",
      "31693  47.25   5.00       9.6    0.0     5.0       57.25  Credit Card   \n",
      "\n",
      "                             COMPANY  \n",
      "0                          Flash Cab  \n",
      "1                          Flash Cab  \n",
      "2                           Sun Taxi  \n",
      "3            Choice Taxi Association  \n",
      "4                          Flash Cab  \n",
      "...                              ...  \n",
      "31689   Blue Ribbon Taxi Association  \n",
      "31690        Choice Taxi Association  \n",
      "31691                       Sun Taxi  \n",
      "31692  Taxicab Insurance Agency, LLC  \n",
      "31693  Taxicab Insurance Agency, LLC  \n",
      "\n",
      "[31694 rows x 18 columns]\n"
     ]
    }
   ],
   "source": [
    "chicago_taxi_dataset = pd.read_csv(\"https://download.mlcc.google.com/mledu-datasets/chicago_taxi_train.csv\")\n"
   ]
  },
  {
   "cell_type": "code",
   "execution_count": 6,
   "id": "0a8e9379-f55a-4cc9-8dae-fc939435c191",
   "metadata": {},
   "outputs": [
    {
     "name": "stdout",
     "output_type": "stream",
     "text": [
      "Read dataset completed successfully.\n",
      "Total number of rows: 31694\n",
      "\n",
      "\n"
     ]
    },
    {
     "data": {
      "text/html": [
       "<div>\n",
       "<style scoped>\n",
       "    .dataframe tbody tr th:only-of-type {\n",
       "        vertical-align: middle;\n",
       "    }\n",
       "\n",
       "    .dataframe tbody tr th {\n",
       "        vertical-align: top;\n",
       "    }\n",
       "\n",
       "    .dataframe thead th {\n",
       "        text-align: right;\n",
       "    }\n",
       "</style>\n",
       "<table border=\"1\" class=\"dataframe\">\n",
       "  <thead>\n",
       "    <tr style=\"text-align: right;\">\n",
       "      <th></th>\n",
       "      <th>TRIP_MILES</th>\n",
       "      <th>TRIP_SECONDS</th>\n",
       "      <th>FARE</th>\n",
       "      <th>COMPANY</th>\n",
       "      <th>PAYMENT_TYPE</th>\n",
       "      <th>TIP_RATE</th>\n",
       "    </tr>\n",
       "  </thead>\n",
       "  <tbody>\n",
       "    <tr>\n",
       "      <th>0</th>\n",
       "      <td>2.57</td>\n",
       "      <td>2341</td>\n",
       "      <td>31.99</td>\n",
       "      <td>Flash Cab</td>\n",
       "      <td>Mobile</td>\n",
       "      <td>6.3</td>\n",
       "    </tr>\n",
       "    <tr>\n",
       "      <th>1</th>\n",
       "      <td>1.18</td>\n",
       "      <td>1074</td>\n",
       "      <td>9.75</td>\n",
       "      <td>Flash Cab</td>\n",
       "      <td>Credit Card</td>\n",
       "      <td>27.9</td>\n",
       "    </tr>\n",
       "    <tr>\n",
       "      <th>2</th>\n",
       "      <td>1.29</td>\n",
       "      <td>1173</td>\n",
       "      <td>10.25</td>\n",
       "      <td>Sun Taxi</td>\n",
       "      <td>Cash</td>\n",
       "      <td>0.0</td>\n",
       "    </tr>\n",
       "    <tr>\n",
       "      <th>3</th>\n",
       "      <td>3.70</td>\n",
       "      <td>3360</td>\n",
       "      <td>23.75</td>\n",
       "      <td>Choice Taxi Association</td>\n",
       "      <td>Cash</td>\n",
       "      <td>0.0</td>\n",
       "    </tr>\n",
       "    <tr>\n",
       "      <th>4</th>\n",
       "      <td>1.15</td>\n",
       "      <td>1044</td>\n",
       "      <td>10.00</td>\n",
       "      <td>Flash Cab</td>\n",
       "      <td>Cash</td>\n",
       "      <td>0.0</td>\n",
       "    </tr>\n",
       "    <tr>\n",
       "      <th>...</th>\n",
       "      <td>...</td>\n",
       "      <td>...</td>\n",
       "      <td>...</td>\n",
       "      <td>...</td>\n",
       "      <td>...</td>\n",
       "      <td>...</td>\n",
       "    </tr>\n",
       "    <tr>\n",
       "      <th>195</th>\n",
       "      <td>1.13</td>\n",
       "      <td>821</td>\n",
       "      <td>9.00</td>\n",
       "      <td>Blue Ribbon Taxi Association</td>\n",
       "      <td>Mobile</td>\n",
       "      <td>22.9</td>\n",
       "    </tr>\n",
       "    <tr>\n",
       "      <th>196</th>\n",
       "      <td>0.57</td>\n",
       "      <td>414</td>\n",
       "      <td>6.00</td>\n",
       "      <td>Flash Cab</td>\n",
       "      <td>Cash</td>\n",
       "      <td>0.0</td>\n",
       "    </tr>\n",
       "    <tr>\n",
       "      <th>197</th>\n",
       "      <td>1.22</td>\n",
       "      <td>886</td>\n",
       "      <td>9.00</td>\n",
       "      <td>City Service</td>\n",
       "      <td>Cash</td>\n",
       "      <td>0.0</td>\n",
       "    </tr>\n",
       "    <tr>\n",
       "      <th>198</th>\n",
       "      <td>1.68</td>\n",
       "      <td>1219</td>\n",
       "      <td>9.00</td>\n",
       "      <td>Sun Taxi</td>\n",
       "      <td>Mobile</td>\n",
       "      <td>23.0</td>\n",
       "    </tr>\n",
       "    <tr>\n",
       "      <th>199</th>\n",
       "      <td>0.71</td>\n",
       "      <td>515</td>\n",
       "      <td>6.50</td>\n",
       "      <td>Sun Taxi</td>\n",
       "      <td>Credit Card</td>\n",
       "      <td>18.2</td>\n",
       "    </tr>\n",
       "  </tbody>\n",
       "</table>\n",
       "<p>200 rows × 6 columns</p>\n",
       "</div>"
      ],
      "text/plain": [
       "     TRIP_MILES  TRIP_SECONDS   FARE                       COMPANY  \\\n",
       "0          2.57          2341  31.99                     Flash Cab   \n",
       "1          1.18          1074   9.75                     Flash Cab   \n",
       "2          1.29          1173  10.25                      Sun Taxi   \n",
       "3          3.70          3360  23.75       Choice Taxi Association   \n",
       "4          1.15          1044  10.00                     Flash Cab   \n",
       "..          ...           ...    ...                           ...   \n",
       "195        1.13           821   9.00  Blue Ribbon Taxi Association   \n",
       "196        0.57           414   6.00                     Flash Cab   \n",
       "197        1.22           886   9.00                  City Service   \n",
       "198        1.68          1219   9.00                      Sun Taxi   \n",
       "199        0.71           515   6.50                      Sun Taxi   \n",
       "\n",
       "    PAYMENT_TYPE  TIP_RATE  \n",
       "0         Mobile       6.3  \n",
       "1    Credit Card      27.9  \n",
       "2           Cash       0.0  \n",
       "3           Cash       0.0  \n",
       "4           Cash       0.0  \n",
       "..           ...       ...  \n",
       "195       Mobile      22.9  \n",
       "196         Cash       0.0  \n",
       "197         Cash       0.0  \n",
       "198       Mobile      23.0  \n",
       "199  Credit Card      18.2  \n",
       "\n",
       "[200 rows x 6 columns]"
      ]
     },
     "execution_count": 6,
     "metadata": {},
     "output_type": "execute_result"
    }
   ],
   "source": [
    "training_df = chicago_taxi_dataset[['TRIP_MILES', 'TRIP_SECONDS', 'FARE', 'COMPANY', 'PAYMENT_TYPE', 'TIP_RATE']]\n",
    "\n",
    "print('Read dataset completed successfully.')\n",
    "print('Total number of rows: {0}\\n\\n'.format(len(training_df.index)))\n",
    "training_df.head(200)"
   ]
  },
  {
   "cell_type": "code",
   "execution_count": 8,
   "id": "77930afa-2ae9-46e4-ac18-003f1387e0e2",
   "metadata": {},
   "outputs": [
    {
     "name": "stdout",
     "output_type": "stream",
     "text": [
      "Total number of rows: 31694\n",
      "\n",
      "\n"
     ]
    },
    {
     "data": {
      "text/html": [
       "<div>\n",
       "<style scoped>\n",
       "    .dataframe tbody tr th:only-of-type {\n",
       "        vertical-align: middle;\n",
       "    }\n",
       "\n",
       "    .dataframe tbody tr th {\n",
       "        vertical-align: top;\n",
       "    }\n",
       "\n",
       "    .dataframe thead th {\n",
       "        text-align: right;\n",
       "    }\n",
       "</style>\n",
       "<table border=\"1\" class=\"dataframe\">\n",
       "  <thead>\n",
       "    <tr style=\"text-align: right;\">\n",
       "      <th></th>\n",
       "      <th>TRIP_MILES</th>\n",
       "      <th>TRIP_SECONDS</th>\n",
       "      <th>FARE</th>\n",
       "      <th>COMPANY</th>\n",
       "      <th>PAYMENT_TYPE</th>\n",
       "      <th>TIP_RATE</th>\n",
       "    </tr>\n",
       "  </thead>\n",
       "  <tbody>\n",
       "    <tr>\n",
       "      <th>count</th>\n",
       "      <td>31694.000000</td>\n",
       "      <td>31694.000000</td>\n",
       "      <td>31694.000000</td>\n",
       "      <td>31694</td>\n",
       "      <td>31694</td>\n",
       "      <td>31694.000000</td>\n",
       "    </tr>\n",
       "    <tr>\n",
       "      <th>unique</th>\n",
       "      <td>NaN</td>\n",
       "      <td>NaN</td>\n",
       "      <td>NaN</td>\n",
       "      <td>31</td>\n",
       "      <td>7</td>\n",
       "      <td>NaN</td>\n",
       "    </tr>\n",
       "    <tr>\n",
       "      <th>top</th>\n",
       "      <td>NaN</td>\n",
       "      <td>NaN</td>\n",
       "      <td>NaN</td>\n",
       "      <td>Flash Cab</td>\n",
       "      <td>Credit Card</td>\n",
       "      <td>NaN</td>\n",
       "    </tr>\n",
       "    <tr>\n",
       "      <th>freq</th>\n",
       "      <td>NaN</td>\n",
       "      <td>NaN</td>\n",
       "      <td>NaN</td>\n",
       "      <td>7887</td>\n",
       "      <td>14142</td>\n",
       "      <td>NaN</td>\n",
       "    </tr>\n",
       "    <tr>\n",
       "      <th>mean</th>\n",
       "      <td>8.289463</td>\n",
       "      <td>1319.796397</td>\n",
       "      <td>23.905210</td>\n",
       "      <td>NaN</td>\n",
       "      <td>NaN</td>\n",
       "      <td>12.965785</td>\n",
       "    </tr>\n",
       "    <tr>\n",
       "      <th>std</th>\n",
       "      <td>7.265672</td>\n",
       "      <td>928.932873</td>\n",
       "      <td>16.970022</td>\n",
       "      <td>NaN</td>\n",
       "      <td>NaN</td>\n",
       "      <td>15.517765</td>\n",
       "    </tr>\n",
       "    <tr>\n",
       "      <th>min</th>\n",
       "      <td>0.500000</td>\n",
       "      <td>60.000000</td>\n",
       "      <td>3.250000</td>\n",
       "      <td>NaN</td>\n",
       "      <td>NaN</td>\n",
       "      <td>0.000000</td>\n",
       "    </tr>\n",
       "    <tr>\n",
       "      <th>25%</th>\n",
       "      <td>1.720000</td>\n",
       "      <td>548.000000</td>\n",
       "      <td>9.000000</td>\n",
       "      <td>NaN</td>\n",
       "      <td>NaN</td>\n",
       "      <td>0.000000</td>\n",
       "    </tr>\n",
       "    <tr>\n",
       "      <th>50%</th>\n",
       "      <td>5.920000</td>\n",
       "      <td>1081.000000</td>\n",
       "      <td>18.750000</td>\n",
       "      <td>NaN</td>\n",
       "      <td>NaN</td>\n",
       "      <td>12.200000</td>\n",
       "    </tr>\n",
       "    <tr>\n",
       "      <th>75%</th>\n",
       "      <td>14.500000</td>\n",
       "      <td>1888.000000</td>\n",
       "      <td>38.750000</td>\n",
       "      <td>NaN</td>\n",
       "      <td>NaN</td>\n",
       "      <td>20.800000</td>\n",
       "    </tr>\n",
       "    <tr>\n",
       "      <th>max</th>\n",
       "      <td>68.120000</td>\n",
       "      <td>7140.000000</td>\n",
       "      <td>159.250000</td>\n",
       "      <td>NaN</td>\n",
       "      <td>NaN</td>\n",
       "      <td>648.600000</td>\n",
       "    </tr>\n",
       "  </tbody>\n",
       "</table>\n",
       "</div>"
      ],
      "text/plain": [
       "          TRIP_MILES  TRIP_SECONDS          FARE    COMPANY PAYMENT_TYPE  \\\n",
       "count   31694.000000  31694.000000  31694.000000      31694        31694   \n",
       "unique           NaN           NaN           NaN         31            7   \n",
       "top              NaN           NaN           NaN  Flash Cab  Credit Card   \n",
       "freq             NaN           NaN           NaN       7887        14142   \n",
       "mean        8.289463   1319.796397     23.905210        NaN          NaN   \n",
       "std         7.265672    928.932873     16.970022        NaN          NaN   \n",
       "min         0.500000     60.000000      3.250000        NaN          NaN   \n",
       "25%         1.720000    548.000000      9.000000        NaN          NaN   \n",
       "50%         5.920000   1081.000000     18.750000        NaN          NaN   \n",
       "75%        14.500000   1888.000000     38.750000        NaN          NaN   \n",
       "max        68.120000   7140.000000    159.250000        NaN          NaN   \n",
       "\n",
       "            TIP_RATE  \n",
       "count   31694.000000  \n",
       "unique           NaN  \n",
       "top              NaN  \n",
       "freq             NaN  \n",
       "mean       12.965785  \n",
       "std        15.517765  \n",
       "min         0.000000  \n",
       "25%         0.000000  \n",
       "50%        12.200000  \n",
       "75%        20.800000  \n",
       "max       648.600000  "
      ]
     },
     "execution_count": 8,
     "metadata": {},
     "output_type": "execute_result"
    }
   ],
   "source": [
    "print('Total number of rows: {0}\\n\\n'.format(len(training_df.index)))\n",
    "training_df.describe(include='all')"
   ]
  },
  {
   "cell_type": "code",
   "execution_count": 12,
   "id": "7e174aa1-a897-4f8a-a60c-a79b18a7f097",
   "metadata": {},
   "outputs": [
    {
     "name": "stdout",
     "output_type": "stream",
     "text": [
      "159.25\n",
      "The trip miles mean is 8.289462674323214\n",
      "The number of unique companies is 31\n",
      "The most frequent payment type is Credit Card\n",
      "Are any features missing data? \t\t\t\tAnswer: No\n"
     ]
    }
   ],
   "source": [
    "print(training_df[\"FARE\"].max())\n",
    "print(f\"The trip miles mean is {training_df['TRIP_MILES'].mean()}\")\n",
    "print(f\"The number of unique companies is {training_df['COMPANY'].nunique()}\")\n",
    "print(f\"The most frequent payment type is {training_df['PAYMENT_TYPE'].value_counts().idxmax()}\")\n",
    "missing_values = training_df.isnull().sum().sum()\n",
    "print(\"Are any features missing data? \\t\\t\\t\\tAnswer:\", \"No\" if missing_values == 0 else \"Yes\")"
   ]
  },
  {
   "cell_type": "code",
   "execution_count": 13,
   "id": "81be614a-f472-4cf9-ab01-7cbb4c9a0803",
   "metadata": {},
   "outputs": [
    {
     "data": {
      "text/html": [
       "<div>\n",
       "<style scoped>\n",
       "    .dataframe tbody tr th:only-of-type {\n",
       "        vertical-align: middle;\n",
       "    }\n",
       "\n",
       "    .dataframe tbody tr th {\n",
       "        vertical-align: top;\n",
       "    }\n",
       "\n",
       "    .dataframe thead th {\n",
       "        text-align: right;\n",
       "    }\n",
       "</style>\n",
       "<table border=\"1\" class=\"dataframe\">\n",
       "  <thead>\n",
       "    <tr style=\"text-align: right;\">\n",
       "      <th></th>\n",
       "      <th>TRIP_MILES</th>\n",
       "      <th>TRIP_SECONDS</th>\n",
       "      <th>FARE</th>\n",
       "      <th>TIP_RATE</th>\n",
       "    </tr>\n",
       "  </thead>\n",
       "  <tbody>\n",
       "    <tr>\n",
       "      <th>TRIP_MILES</th>\n",
       "      <td>1.000000</td>\n",
       "      <td>0.800855</td>\n",
       "      <td>0.975344</td>\n",
       "      <td>-0.049594</td>\n",
       "    </tr>\n",
       "    <tr>\n",
       "      <th>TRIP_SECONDS</th>\n",
       "      <td>0.800855</td>\n",
       "      <td>1.000000</td>\n",
       "      <td>0.830292</td>\n",
       "      <td>-0.084294</td>\n",
       "    </tr>\n",
       "    <tr>\n",
       "      <th>FARE</th>\n",
       "      <td>0.975344</td>\n",
       "      <td>0.830292</td>\n",
       "      <td>1.000000</td>\n",
       "      <td>-0.070979</td>\n",
       "    </tr>\n",
       "    <tr>\n",
       "      <th>TIP_RATE</th>\n",
       "      <td>-0.049594</td>\n",
       "      <td>-0.084294</td>\n",
       "      <td>-0.070979</td>\n",
       "      <td>1.000000</td>\n",
       "    </tr>\n",
       "  </tbody>\n",
       "</table>\n",
       "</div>"
      ],
      "text/plain": [
       "              TRIP_MILES  TRIP_SECONDS      FARE  TIP_RATE\n",
       "TRIP_MILES      1.000000      0.800855  0.975344 -0.049594\n",
       "TRIP_SECONDS    0.800855      1.000000  0.830292 -0.084294\n",
       "FARE            0.975344      0.830292  1.000000 -0.070979\n",
       "TIP_RATE       -0.049594     -0.084294 -0.070979  1.000000"
      ]
     },
     "execution_count": 13,
     "metadata": {},
     "output_type": "execute_result"
    }
   ],
   "source": [
    "training_df.corr(numeric_only=True)"
   ]
  },
  {
   "cell_type": "code",
   "execution_count": 15,
   "id": "7705cddc-9e0b-4759-843a-bf4f740b23e7",
   "metadata": {},
   "outputs": [
    {
     "data": {
      "text/plain": [
       "<seaborn.axisgrid.PairGrid at 0x27b1e421110>"
      ]
     },
     "execution_count": 15,
     "metadata": {},
     "output_type": "execute_result"
    },
    {
     "data": {
      "image/png": "[encoded data removed]",
      "text/plain": [
       "<Figure size 750x750 with 12 Axes>"
      ]
     },
     "metadata": {},
     "output_type": "display_data"
    }
   ],
   "source": [
    "sns.pairplot(training_df, x_vars=[\"FARE\", \"TRIP_MILES\", \"TRIP_SECONDS\"], y_vars=[\"FARE\", \"TRIP_MILES\", \"TRIP_SECONDS\"])"
   ]
  },
  {
   "cell_type": "code",
   "execution_count": 16,
   "id": "a7580059-9f03-46ab-96db-bbe52e0c7a40",
   "metadata": {},
   "outputs": [
    {
     "name": "stdout",
     "output_type": "stream",
     "text": [
      "SUCCESS: defining plotting functions complete.\n"
     ]
    }
   ],
   "source": [
    "def make_plots(df, feature_names, label_name, model_output, sample_size=200):\n",
    "\n",
    "  random_sample = df.sample(n=sample_size).copy()\n",
    "  random_sample.reset_index()\n",
    "  weights, bias, epochs, rmse = model_output\n",
    "\n",
    "  is_2d_plot = len(feature_names) == 1\n",
    "  model_plot_type = \"scatter\" if is_2d_plot else \"surface\"\n",
    "  fig = make_subplots(rows=1, cols=2,\n",
    "                      subplot_titles=(\"Loss Curve\", \"Model Plot\"),\n",
    "                      specs=[[{\"type\": \"scatter\"}, {\"type\": model_plot_type}]])\n",
    "\n",
    "  plot_data(random_sample, feature_names, label_name, fig)\n",
    "  plot_model(random_sample, feature_names, weights, bias, fig)\n",
    "  plot_loss_curve(epochs, rmse, fig)\n",
    "\n",
    "  fig.show()\n",
    "  return\n",
    "\n",
    "def plot_loss_curve(epochs, rmse, fig):\n",
    "  curve = px.line(x=epochs, y=rmse)\n",
    "  curve.update_traces(line_color='#ff0000', line_width=3)\n",
    "\n",
    "  fig.append_trace(curve.data[0], row=1, col=1)\n",
    "  fig.update_xaxes(title_text=\"Epoch\", row=1, col=1)\n",
    "  fig.update_yaxes(title_text=\"Root Mean Squared Error\", row=1, col=1, range=[rmse.min()*0.8, rmse.max()])\n",
    "\n",
    "  return\n",
    "\n",
    "def plot_data(df, features, label, fig):\n",
    "  if len(features) == 1:\n",
    "    scatter = px.scatter(df, x=features[0], y=label)\n",
    "  else:\n",
    "    scatter = px.scatter_3d(df, x=features[0], y=features[1], z=label)\n",
    "\n",
    "  fig.append_trace(scatter.data[0], row=1, col=2)\n",
    "  if len(features) == 1:\n",
    "    fig.update_xaxes(title_text=features[0], row=1, col=2)\n",
    "    fig.update_yaxes(title_text=label, row=1, col=2)\n",
    "  else:\n",
    "    fig.update_layout(scene1=dict(xaxis_title=features[0], yaxis_title=features[1], zaxis_title=label))\n",
    "\n",
    "  return\n",
    "\n",
    "def plot_model(df, features, weights, bias, fig):\n",
    "  df['FARE_PREDICTED'] = bias[0]\n",
    "\n",
    "  for index, feature in enumerate(features):\n",
    "    df['FARE_PREDICTED'] = df['FARE_PREDICTED'] + weights[index][0] * df[feature]\n",
    "\n",
    "  if len(features) == 1:\n",
    "    model = px.line(df, x=features[0], y='FARE_PREDICTED')\n",
    "    model.update_traces(line_color='#ff0000', line_width=3)\n",
    "  else:\n",
    "    z_name, y_name = \"FARE_PREDICTED\", features[1]\n",
    "    z = [df[z_name].min(), (df[z_name].max() - df[z_name].min()) / 2, df[z_name].max()]\n",
    "    y = [df[y_name].min(), (df[y_name].max() - df[y_name].min()) / 2, df[y_name].max()]\n",
    "    x = []\n",
    "    for i in range(len(y)):\n",
    "      x.append((z[i] - weights[1][0] * y[i] - bias[0]) / weights[0][0])\n",
    "\n",
    "    plane=pd.DataFrame({'x':x, 'y':y, 'z':[z] * 3})\n",
    "\n",
    "    light_yellow = [[0, '#89CFF0'], [1, '#FFDB58']]\n",
    "    model = go.Figure(data=go.Surface(x=plane['x'], y=plane['y'], z=plane['z'],\n",
    "                                      colorscale=light_yellow))\n",
    "\n",
    "  fig.add_trace(model.data[0], row=1, col=2)\n",
    "\n",
    "  return\n",
    "\n",
    "def model_info(feature_names, label_name, model_output):\n",
    "  weights = model_output[0]\n",
    "  bias = model_output[1]\n",
    "\n",
    "  nl = \"\\n\"\n",
    "  header = \"-\" * 80\n",
    "  banner = header + nl + \"|\" + \"MODEL INFO\".center(78) + \"|\" + nl + header\n",
    "\n",
    "  info = \"\"\n",
    "  equation = label_name + \" = \"\n",
    "\n",
    "  for index, feature in enumerate(feature_names):\n",
    "    info = info + \"Weight for feature[{}]: {:.3f}\\n\".format(feature, weights[index][0])\n",
    "    equation = equation + \"{:.3f} * {} + \".format(weights[index][0], feature)\n",
    "\n",
    "  info = info + \"Bias: {:.3f}\\n\".format(bias[0])\n",
    "  equation = equation + \"{:.3f}\\n\".format(bias[0])\n",
    "\n",
    "  return banner + nl + info + nl + equation\n",
    "\n",
    "print(\"SUCCESS: defining plotting functions complete.\")"
   ]
  },
  {
   "cell_type": "code",
   "execution_count": 17,
   "id": "8797e087-4880-48c2-bfd7-aa3d61d86f62",
   "metadata": {},
   "outputs": [
    {
     "name": "stdout",
     "output_type": "stream",
     "text": [
      "SUCCESS: defining linear regression functions complete.\n"
     ]
    }
   ],
   "source": [
    "#@title Code - Define ML functions\n",
    "\n",
    "def build_model(my_learning_rate, num_features):\n",
    "  \"\"\"Create and compile a simple linear regression model.\"\"\"\n",
    "  # Describe the topography of the model.\n",
    "  # The topography of a simple linear regression model\n",
    "  # is a single node in a single layer.\n",
    "  inputs = keras.Input(shape=(num_features,))\n",
    "  outputs = keras.layers.Dense(units=1)(inputs)\n",
    "  model = keras.Model(inputs=inputs, outputs=outputs)\n",
    "\n",
    "  # Compile the model topography into code that Keras can efficiently\n",
    "  # execute. Configure training to minimize the model's mean squared error.\n",
    "  model.compile(optimizer=keras.optimizers.RMSprop(learning_rate=my_learning_rate),\n",
    "                loss=\"mean_squared_error\",\n",
    "                metrics=[keras.metrics.RootMeanSquaredError()])\n",
    "\n",
    "  return model\n",
    "\n",
    "\n",
    "def train_model(model, features, label, epochs, batch_size):\n",
    "  \"\"\"Train the model by feeding it data.\"\"\"\n",
    "\n",
    "  # Feed the model the feature and the label.\n",
    "  # The model will train for the specified number of epochs.\n",
    "  history = model.fit(x=features,\n",
    "                      y=label,\n",
    "                      batch_size=batch_size,\n",
    "                      epochs=epochs)\n",
    "\n",
    "  # Gather the trained model's weight and bias.\n",
    "  trained_weight = model.get_weights()[0]\n",
    "  trained_bias = model.get_weights()[1]\n",
    "\n",
    "  # The list of epochs is stored separately from the rest of history.\n",
    "  epochs = history.epoch\n",
    "\n",
    "  # Isolate the error for each epoch.\n",
    "  hist = pd.DataFrame(history.history)\n",
    "\n",
    "  # To track the progression of training, we're going to take a snapshot\n",
    "  # of the model's root mean squared error at each epoch.\n",
    "  rmse = hist[\"root_mean_squared_error\"]\n",
    "\n",
    "  return trained_weight, trained_bias, epochs, rmse\n",
    "\n",
    "\n",
    "def run_experiment(df, feature_names, label_name, learning_rate, epochs, batch_size):\n",
    "\n",
    "  print('INFO: starting training experiment with features={} and label={}\\n'.format(feature_names, label_name))\n",
    "\n",
    "  num_features = len(feature_names)\n",
    "\n",
    "  features = df.loc[:, feature_names].values\n",
    "  label = df[label_name].values\n",
    "\n",
    "  model = build_model(learning_rate, num_features)\n",
    "  model_output = train_model(model, features, label, epochs, batch_size)\n",
    "\n",
    "  print('\\nSUCCESS: training experiment complete\\n')\n",
    "  print('{}'.format(model_info(feature_names, label_name, model_output)))\n",
    "  make_plots(df, feature_names, label_name, model_output)\n",
    "\n",
    "  return model\n",
    "\n",
    "print(\"SUCCESS: defining linear regression functions complete.\")"
   ]
  },
  {
   "cell_type": "code",
   "execution_count": 31,
   "id": "49e1f88c-c9fb-4a5c-ae02-2a26ecfbb30c",
   "metadata": {},
   "outputs": [
    {
     "name": "stdout",
     "output_type": "stream",
     "text": [
      "INFO: starting training experiment with features=['TRIP_MILES'] and label=FARE\n",
      "\n",
      "Epoch 1/20\n",
      "\u001b[1m634/634\u001b[0m \u001b[32m━━━━━━━━━━━━━━━━━━━━\u001b[0m\u001b[37m\u001b[0m \u001b[1m3s\u001b[0m 3ms/step - loss: 285.0334 - root_mean_squared_error: 16.8523\n",
      "Epoch 2/20\n",
      "\u001b[1m634/634\u001b[0m \u001b[32m━━━━━━━━━━━━━━━━━━━━\u001b[0m\u001b[37m\u001b[0m \u001b[1m2s\u001b[0m 3ms/step - loss: 101.4954 - root_mean_squared_error: 10.0297\n",
      "Epoch 3/20\n",
      "\u001b[1m634/634\u001b[0m \u001b[32m━━━━━━━━━━━━━━━━━━━━\u001b[0m\u001b[37m\u001b[0m \u001b[1m2s\u001b[0m 3ms/step - loss: 24.1148 - root_mean_squared_error: 4.8986\n",
      "Epoch 4/20\n",
      "\u001b[1m634/634\u001b[0m \u001b[32m━━━━━━━━━━━━━━━━━━━━\u001b[0m\u001b[37m\u001b[0m \u001b[1m2s\u001b[0m 3ms/step - loss: 18.8256 - root_mean_squared_error: 4.3355\n",
      "Epoch 5/20\n",
      "\u001b[1m634/634\u001b[0m \u001b[32m━━━━━━━━━━━━━━━━━━━━\u001b[0m\u001b[37m\u001b[0m \u001b[1m2s\u001b[0m 3ms/step - loss: 17.3688 - root_mean_squared_error: 4.1606\n",
      "Epoch 6/20\n",
      "\u001b[1m634/634\u001b[0m \u001b[32m━━━━━━━━━━━━━━━━━━━━\u001b[0m\u001b[37m\u001b[0m \u001b[1m2s\u001b[0m 3ms/step - loss: 15.7877 - root_mean_squared_error: 3.9695\n",
      "Epoch 7/20\n",
      "\u001b[1m634/634\u001b[0m \u001b[32m━━━━━━━━━━━━━━━━━━━━\u001b[0m\u001b[37m\u001b[0m \u001b[1m2s\u001b[0m 3ms/step - loss: 14.3026 - root_mean_squared_error: 3.7778\n",
      "Epoch 8/20\n",
      "\u001b[1m634/634\u001b[0m \u001b[32m━━━━━━━━━━━━━━━━━━━━\u001b[0m\u001b[37m\u001b[0m \u001b[1m2s\u001b[0m 3ms/step - loss: 13.6630 - root_mean_squared_error: 3.6925\n",
      "Epoch 9/20\n",
      "\u001b[1m634/634\u001b[0m \u001b[32m━━━━━━━━━━━━━━━━━━━━\u001b[0m\u001b[37m\u001b[0m \u001b[1m2s\u001b[0m 3ms/step - loss: 14.6172 - root_mean_squared_error: 3.8175\n",
      "Epoch 10/20\n",
      "\u001b[1m634/634\u001b[0m \u001b[32m━━━━━━━━━━━━━━━━━━━━\u001b[0m\u001b[37m\u001b[0m \u001b[1m2s\u001b[0m 3ms/step - loss: 13.8148 - root_mean_squared_error: 3.7054\n",
      "Epoch 11/20\n",
      "\u001b[1m634/634\u001b[0m \u001b[32m━━━━━━━━━━━━━━━━━━━━\u001b[0m\u001b[37m\u001b[0m \u001b[1m2s\u001b[0m 3ms/step - loss: 14.9629 - root_mean_squared_error: 3.8616\n",
      "Epoch 12/20\n",
      "\u001b[1m634/634\u001b[0m \u001b[32m━━━━━━━━━━━━━━━━━━━━\u001b[0m\u001b[37m\u001b[0m \u001b[1m2s\u001b[0m 3ms/step - loss: 14.2541 - root_mean_squared_error: 3.7728\n",
      "Epoch 13/20\n",
      "\u001b[1m634/634\u001b[0m \u001b[32m━━━━━━━━━━━━━━━━━━━━\u001b[0m\u001b[37m\u001b[0m \u001b[1m2s\u001b[0m 3ms/step - loss: 13.0026 - root_mean_squared_error: 3.6019\n",
      "Epoch 14/20\n",
      "\u001b[1m634/634\u001b[0m \u001b[32m━━━━━━━━━━━━━━━━━━━━\u001b[0m\u001b[37m\u001b[0m \u001b[1m2s\u001b[0m 3ms/step - loss: 14.3456 - root_mean_squared_error: 3.7787\n",
      "Epoch 15/20\n",
      "\u001b[1m634/634\u001b[0m \u001b[32m━━━━━━━━━━━━━━━━━━━━\u001b[0m\u001b[37m\u001b[0m \u001b[1m2s\u001b[0m 3ms/step - loss: 14.1662 - root_mean_squared_error: 3.7624\n",
      "Epoch 16/20\n",
      "\u001b[1m634/634\u001b[0m \u001b[32m━━━━━━━━━━━━━━━━━━━━\u001b[0m\u001b[37m\u001b[0m \u001b[1m2s\u001b[0m 3ms/step - loss: 13.2818 - root_mean_squared_error: 3.6419\n",
      "Epoch 17/20\n",
      "\u001b[1m634/634\u001b[0m \u001b[32m━━━━━━━━━━━━━━━━━━━━\u001b[0m\u001b[37m\u001b[0m \u001b[1m2s\u001b[0m 4ms/step - loss: 14.5024 - root_mean_squared_error: 3.8041\n",
      "Epoch 18/20\n",
      "\u001b[1m634/634\u001b[0m \u001b[32m━━━━━━━━━━━━━━━━━━━━\u001b[0m\u001b[37m\u001b[0m \u001b[1m2s\u001b[0m 3ms/step - loss: 15.3863 - root_mean_squared_error: 3.9113\n",
      "Epoch 19/20\n",
      "\u001b[1m634/634\u001b[0m \u001b[32m━━━━━━━━━━━━━━━━━━━━\u001b[0m\u001b[37m\u001b[0m \u001b[1m2s\u001b[0m 4ms/step - loss: 13.1516 - root_mean_squared_error: 3.6211\n",
      "Epoch 20/20\n",
      "\u001b[1m634/634\u001b[0m \u001b[32m━━━━━━━━━━━━━━━━━━━━\u001b[0m\u001b[37m\u001b[0m \u001b[1m2s\u001b[0m 3ms/step - loss: 13.7265 - root_mean_squared_error: 3.6980\n",
      "\n",
      "SUCCESS: training experiment complete\n",
      "\n",
      "--------------------------------------------------------------------------------\n",
      "|                                  MODEL INFO                                  |\n",
      "--------------------------------------------------------------------------------\n",
      "Weight for feature[TRIP_MILES]: 2.277\n",
      "Bias: 4.981\n",
      "\n",
      "FARE = 2.277 * TRIP_MILES + 4.981\n",
      "\n"
     ]
    },
    {
     "data": {
      "application/vnd.plotly.v1+json": {
       "config": {
        "plotlyServerURL": "https://plot.ly"
       },
       "data": [
        {
         "hovertemplate": "TRIP_MILES=%{x}<br>FARE=%{y}<extra></extra>",
         "legendgroup": "",
         "marker": {
          "color": "#636efa",
          "symbol": "circle"
         },
         "mode": "markers",
         "name": "",
         "orientation": "v",
         "showlegend": false,
         "type": "scatter",
         "x": {
          "bdata": "4XoUrkfhDkCamZmZmZkwQOF6FK5H4TFASOF6FK4HMkA9CtejcD0AQI/C9Shcj/Y/PQrXo3A9DEBmZmZmZmYiQJqZmZmZmek/mpmZmZmZ6T+PwvUoXI8RQOxRuB6F6yRA16NwPQrXJ0AzMzMzMzMyQClcj8L1KA5AexSuR+F6/D/2KFyPwrUxQAAAAAAAACxAj8L1KFyP9j8zMzMzMzMSQM3MzMzMDDFAj8L1KFyP6j8zMzMzMzP7PwrXo3A9CjFArkfhehQuJUDNzMzMzMzwP83MzMzMzBJAAAAAAAAAEEDNzMzMzEwxQArXo3A9ChdA16NwPQrX/z8AAAAAAAD4Pz0K16NwPSJAw/UoXI/C9T/2KFyPwvUnQFK4HoXr0TFAH4XrUbgeD0CuR+F6FK4pQAAAAAAAAOA/H4XrUbheMEBI4XoUrkcFQLgehetRuBBAmpmZmZmZBUBxPQrXo/AwQM3MzMzMzBRAZmZmZmZm5j9mZmZmZuYyQBSuR+F6FPI/AAAAAAAA+D9mZmZmZmYzQMP1KFyPQjpAcT0K16MwMUAAAAAAAAAQQEjhehSuhzJAXI/C9Shc+z+amZmZmZkbQKRwPQrXoyFAw/UoXI9CMECPwvUoXI/+Pylcj8L1KAZAUrgehetR+D/2KFyPwvUIQNejcD0KVzBAAAAAAAAAMkDD9Shcj8ISQI/C9ShcjwhAMzMzMzMzLkDNzMzMzMwnQHE9CtejcAFAPQrXo3A9AEA9CtejcD0ZQDMzMzMzMzFAPQrXo3C9KUD2KFyPwnUvQI/C9ShcDyZAuB6F61G48j8AAAAAAAAtQDMzMzMzM/M/SOF6FK5HGkAzMzMzMzPjP83MzMzMzChAhetRuB6F9z8pXI/C9SjsPwrXo3A9iiZASOF6FK6HMUDNzMzMzMwaQBSuR+F6FB1AMzMzMzMzKUD2KFyPwvU0QAAAAAAAACVArkfhehSuJkB7FK5H4XrsP83MzMzMzBtAZmZmZmZm9j89CtejcP00QHsUrkfhehFAAAAAAAAAIUDNzMzMzMwxQPYoXI/C9eA/cT0K16NwB0BI4XoUrkc0QJqZmZmZmf0/CtejcD2KMkA9CtejcD0jQHE9CtejcAlAH4XrUbheMUDXo3A9CtcBQEjhehSuR/E/SOF6FK5H4T/NzMzMzMzsPzMzMzMzszFAzczMzMzM9D8zMzMzMzPjP+F6FK5H4eo/mpmZmZmZ+T+F61G4HoUjQGZmZmZmZhBAuB6F61G4M0DhehSuR2EqQOF6FK5H4QBA4XoUrkfhCEBmZmZmZmbuP1yPwvUo3CBA4XoUrkfh9j9mZmZmZmYqQGZmZmZmZiVAmpmZmZkZKEDNzMzMzMz0P8P1KFyPwjFAzczMzMzMEkDsUbgehev5P8P1KFyPwiJAuB6F61G4DkAUrkfhehQrQArXo3A9Cu8/H4XrUbgeB0BI4XoUrkcQQM3MzMzMTDFAexSuR+F69D9SuB6F61ErQJqZmZmZmek/MzMzMzOzMUCkcD0K16P8P65H4XoUruc/AAAAAAAAK0BmZmZmZmb2P3E9CtejcOU/ZmZmZmZmHUDD9Shcj8IlQAAAAAAAAPA/4XoUrkdhIEAfhetRuB71P2ZmZmZmZihArkfhehSu/z9cj8L1KNwxQK5H4XoUrg1ASOF6FK5HJ0BmZmZmZmYyQOF6FK5H4RFAzczMzMxMMUCkcD0K1+MxQM3MzMzMzOw/mpmZmZmZ+T8AAAAAAAAtQMP1KFyPwv0/7FG4HoXr+T+4HoXrUTgqQDMzMzMzMx1AcT0K16NwEkBmZmZmZuYxQLgehetRuBZAw/UoXI9CJkDNzMzMzMwwQK5H4XoUrgNAMzMzMzMzJUCPwvUoXE8wQMP1KFyPwjRACtejcD0KIECkcD0K16P0PwAAAAAAADJApHA9Ctej8D8AAAAAAAAUQAAAAAAAgC9AKVyPwvVoMkBxPQrXo/AnQJqZmZmZmQ1A4XoUrkfhHkB7FK5H4ToxQM3MzMzMzPg/MzMzMzMz/z9xPQrXo3AkQClcj8L1KOQ/mpmZmZmZ4T+F61G4HgUiQD0K16NwPfo/ZmZmZmZmMkC4HoXrUfgwQB+F61G4Hg1AMzMzMzMz6z+PwvUoXI8AQA==",
          "dtype": "f8"
         },
         "xaxis": "x2",
         "y": {
          "bdata": "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",
          "dtype": "f8"
         },
         "yaxis": "y2"
        },
        {
         "hovertemplate": "TRIP_MILES=%{x}<br>FARE_PREDICTED=%{y}<extra></extra>",
         "legendgroup": "",
         "line": {
          "color": "#ff0000",
          "dash": "solid",
          "width": 3
         },
         "marker": {
          "symbol": "circle"
         },
         "mode": "lines",
         "name": "",
         "orientation": "v",
         "showlegend": false,
         "type": "scatter",
         "x": {
          "bdata": "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",
          "dtype": "f8"
         },
         "xaxis": "x2",
         "y": {
          "bdata": "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",
          "dtype": "f8"
         },
         "yaxis": "y2"
        },
        {
         "hovertemplate": "x=%{x}<br>y=%{y}<extra></extra>",
         "legendgroup": "",
         "line": {
          "color": "#ff0000",
          "dash": "solid",
          "width": 3
         },
         "marker": {
          "symbol": "circle"
         },
         "mode": "lines",
         "name": "",
         "orientation": "v",
         "showlegend": false,
         "type": "scatter",
         "x": {
          "bdata": "AAECAwQFBgcICQoLDA0ODxAREhM=",
          "dtype": "i1"
         },
         "xaxis": "x",
         "y": {
          "bdata": "AAAAYBJMLkAAAABABiAhQAAAAMAbYBJAAAAAgIbPEEAAAAAAXTMQQAAAAGBwcg9AAAAAADXIDkAAAAAAgFwOQAAAAKA8Jg5AAAAAoMcLDkAAAADAGAAOQAAAAIAR+w1AAAAAYNv4DUAAAABgP/gNQAAAAIAJ+A1AAAAAYJH3DUAAAAAAV/cNQAAAAICN9w1AAAAAQPz2DUAAAACgaPcNQA==",
          "dtype": "f8"
         },
         "yaxis": "y"
        }
       ],
       "layout": {
        "annotations": [
         {
          "font": {
           "size": 16
          },
          "showarrow": false,
          "text": "Loss Curve",
          "x": 0.225,
          "xanchor": "center",
          "xref": "paper",
          "y": 1,
          "yanchor": "bottom",
          "yref": "paper"
         },
         {
          "font": {
           "size": 16
          },
          "showarrow": false,
          "text": "Model Plot",
          "x": 0.775,
          "xanchor": "center",
          "xref": "paper",
          "y": 1,
          "yanchor": "bottom",
          "yref": "paper"
         }
        ],
        "template": {
         "data": {
          "bar": [
           {
            "error_x": {
             "color": "#2a3f5f"
            },
            "error_y": {
             "color": "#2a3f5f"
            },
            "marker": {
             "line": {
              "color": "#E5ECF6",
              "width": 0.5
             },
             "pattern": {
              "fillmode": "overlay",
              "size": 10,
              "solidity": 0.2
             }
            },
            "type": "bar"
           }
          ],
          "barpolar": [
           {
            "marker": {
             "line": {
              "color": "#E5ECF6",
              "width": 0.5
             },
             "pattern": {
              "fillmode": "overlay",
              "size": 10,
              "solidity": 0.2
             }
            },
            "type": "barpolar"
           }
          ],
          "carpet": [
           {
            "aaxis": {
             "endlinecolor": "#2a3f5f",
             "gridcolor": "white",
             "linecolor": "white",
             "minorgridcolor": "white",
             "startlinecolor": "#2a3f5f"
            },
            "baxis": {
             "endlinecolor": "#2a3f5f",
             "gridcolor": "white",
             "linecolor": "white",
             "minorgridcolor": "white",
             "startlinecolor": "#2a3f5f"
            },
            "type": "carpet"
           }
          ],
          "choropleth": [
           {
            "colorbar": {
             "outlinewidth": 0,
             "ticks": ""
            },
            "type": "choropleth"
           }
          ],
          "contour": [
           {
            "colorbar": {
             "outlinewidth": 0,
             "ticks": ""
            },
            "colorscale": [
             [
              0,
              "#0d0887"
             ],
             [
              0.1111111111111111,
              "#46039f"
             ],
             [
              0.2222222222222222,
              "#7201a8"
             ],
             [
              0.3333333333333333,
              "#9c179e"
             ],
             [
              0.4444444444444444,
              "#bd3786"
             ],
             [
              0.5555555555555556,
              "#d8576b"
             ],
             [
              0.6666666666666666,
              "#ed7953"
             ],
             [
              0.7777777777777778,
              "#fb9f3a"
             ],
             [
              0.8888888888888888,
              "#fdca26"
             ],
             [
              1,
              "#f0f921"
             ]
            ],
            "type": "contour"
           }
          ],
          "contourcarpet": [
           {
            "colorbar": {
             "outlinewidth": 0,
             "ticks": ""
            },
            "type": "contourcarpet"
           }
          ],
          "heatmap": [
           {
            "colorbar": {
             "outlinewidth": 0,
             "ticks": ""
            },
            "colorscale": [
             [
              0,
              "#0d0887"
             ],
             [
              0.1111111111111111,
              "#46039f"
             ],
             [
              0.2222222222222222,
              "#7201a8"
             ],
             [
              0.3333333333333333,
              "#9c179e"
             ],
             [
              0.4444444444444444,
              "#bd3786"
             ],
             [
              0.5555555555555556,
              "#d8576b"
             ],
             [
              0.6666666666666666,
              "#ed7953"
             ],
             [
              0.7777777777777778,
              "#fb9f3a"
             ],
             [
              0.8888888888888888,
              "#fdca26"
             ],
             [
              1,
              "#f0f921"
             ]
            ],
            "type": "heatmap"
           }
          ],
          "histogram": [
           {
            "marker": {
             "pattern": {
              "fillmode": "overlay",
              "size": 10,
              "solidity": 0.2
             }
            },
            "type": "histogram"
           }
          ],
          "histogram2d": [
           {
            "colorbar": {
             "outlinewidth": 0,
             "ticks": ""
            },
            "colorscale": [
             [
              0,
              "#0d0887"
             ],
             [
              0.1111111111111111,
              "#46039f"
             ],
             [
              0.2222222222222222,
              "#7201a8"
             ],
             [
              0.3333333333333333,
              "#9c179e"
             ],
             [
              0.4444444444444444,
              "#bd3786"
             ],
             [
              0.5555555555555556,
              "#d8576b"
             ],
             [
              0.6666666666666666,
              "#ed7953"
             ],
             [
              0.7777777777777778,
              "#fb9f3a"
             ],
             [
              0.8888888888888888,
              "#fdca26"
             ],
             [
              1,
              "#f0f921"
             ]
            ],
            "type": "histogram2d"
           }
          ],
          "histogram2dcontour": [
           {
            "colorbar": {
             "outlinewidth": 0,
             "ticks": ""
            },
            "colorscale": [
             [
              0,
              "#0d0887"
             ],
             [
              0.1111111111111111,
              "#46039f"
             ],
             [
              0.2222222222222222,
              "#7201a8"
             ],
             [
              0.3333333333333333,
              "#9c179e"
             ],
             [
              0.4444444444444444,
              "#bd3786"
             ],
             [
              0.5555555555555556,
              "#d8576b"
             ],
             [
              0.6666666666666666,
              "#ed7953"
             ],
             [
              0.7777777777777778,
              "#fb9f3a"
             ],
             [
              0.8888888888888888,
              "#fdca26"
             ],
             [
              1,
              "#f0f921"
             ]
            ],
            "type": "histogram2dcontour"
           }
          ],
          "mesh3d": [
           {
            "colorbar": {
             "outlinewidth": 0,
             "ticks": ""
            },
            "type": "mesh3d"
           }
          ],
          "parcoords": [
           {
            "line": {
             "colorbar": {
              "outlinewidth": 0,
              "ticks": ""
             }
            },
            "type": "parcoords"
           }
          ],
          "pie": [
           {
            "automargin": true,
            "type": "pie"
           }
          ],
          "scatter": [
           {
            "fillpattern": {
             "fillmode": "overlay",
             "size": 10,
             "solidity": 0.2
            },
            "type": "scatter"
           }
          ],
          "scatter3d": [
           {
            "line": {
             "colorbar": {
              "outlinewidth": 0,
              "ticks": ""
             }
            },
            "marker": {
             "colorbar": {
              "outlinewidth": 0,
              "ticks": ""
             }
            },
            "type": "scatter3d"
           }
          ],
          "scattercarpet": [
           {
            "marker": {
             "colorbar": {
              "outlinewidth": 0,
              "ticks": ""
             }
            },
            "type": "scattercarpet"
           }
          ],
          "scattergeo": [
           {
            "marker": {
             "colorbar": {
              "outlinewidth": 0,
              "ticks": ""
             }
            },
            "type": "scattergeo"
           }
          ],
          "scattergl": [
           {
            "marker": {
             "colorbar": {
              "outlinewidth": 0,
              "ticks": ""
             }
            },
            "type": "scattergl"
           }
          ],
          "scattermap": [
           {
            "marker": {
             "colorbar": {
              "outlinewidth": 0,
              "ticks": ""
             }
            },
            "type": "scattermap"
           }
          ],
          "scattermapbox": [
           {
            "marker": {
             "colorbar": {
              "outlinewidth": 0,
              "ticks": ""
             }
            },
            "type": "scattermapbox"
           }
          ],
          "scatterpolar": [
           {
            "marker": {
             "colorbar": {
              "outlinewidth": 0,
              "ticks": ""
             }
            },
            "type": "scatterpolar"
           }
          ],
          "scatterpolargl": [
           {
            "marker": {
             "colorbar": {
              "outlinewidth": 0,
              "ticks": ""
             }
            },
            "type": "scatterpolargl"
           }
          ],
          "scatterternary": [
           {
            "marker": {
             "colorbar": {
              "outlinewidth": 0,
              "ticks": ""
             }
            },
            "type": "scatterternary"
           }
          ],
          "surface": [
           {
            "colorbar": {
             "outlinewidth": 0,
             "ticks": ""
            },
            "colorscale": [
             [
              0,
              "#0d0887"
             ],
             [
              0.1111111111111111,
              "#46039f"
             ],
             [
              0.2222222222222222,
              "#7201a8"
             ],
             [
              0.3333333333333333,
              "#9c179e"
             ],
             [
              0.4444444444444444,
              "#bd3786"
             ],
             [
              0.5555555555555556,
              "#d8576b"
             ],
             [
              0.6666666666666666,
              "#ed7953"
             ],
             [
              0.7777777777777778,
              "#fb9f3a"
             ],
             [
              0.8888888888888888,
              "#fdca26"
             ],
             [
              1,
              "#f0f921"
             ]
            ],
            "type": "surface"
           }
          ],
          "table": [
           {
            "cells": {
             "fill": {
              "color": "#EBF0F8"
             },
             "line": {
              "color": "white"
             }
            },
            "header": {
             "fill": {
              "color": "#C8D4E3"
             },
             "line": {
              "color": "white"
             }
            },
            "type": "table"
           }
          ]
         },
         "layout": {
          "annotationdefaults": {
           "arrowcolor": "#2a3f5f",
           "arrowhead": 0,
           "arrowwidth": 1
          },
          "autotypenumbers": "strict",
          "coloraxis": {
           "colorbar": {
            "outlinewidth": 0,
            "ticks": ""
           }
          },
          "colorscale": {
           "diverging": [
            [
             0,
             "#8e0152"
            ],
            [
             0.1,
             "#c51b7d"
            ],
            [
             0.2,
             "#de77ae"
            ],
            [
             0.3,
             "#f1b6da"
            ],
            [
             0.4,
             "#fde0ef"
            ],
            [
             0.5,
             "#f7f7f7"
            ],
            [
             0.6,
             "#e6f5d0"
            ],
            [
             0.7,
             "#b8e186"
            ],
            [
             0.8,
             "#7fbc41"
            ],
            [
             0.9,
             "#4d9221"
            ],
            [
             1,
             "#276419"
            ]
           ],
           "sequential": [
            [
             0,
             "#0d0887"
            ],
            [
             0.1111111111111111,
             "#46039f"
            ],
            [
             0.2222222222222222,
             "#7201a8"
            ],
            [
             0.3333333333333333,
             "#9c179e"
            ],
            [
             0.4444444444444444,
             "#bd3786"
            ],
            [
             0.5555555555555556,
             "#d8576b"
            ],
            [
             0.6666666666666666,
             "#ed7953"
            ],
            [
             0.7777777777777778,
             "#fb9f3a"
            ],
            [
             0.8888888888888888,
             "#fdca26"
            ],
            [
             1,
             "#f0f921"
            ]
           ],
           "sequentialminus": [
            [
             0,
             "#0d0887"
            ],
            [
             0.1111111111111111,
             "#46039f"
            ],
            [
             0.2222222222222222,
             "#7201a8"
            ],
            [
             0.3333333333333333,
             "#9c179e"
            ],
            [
             0.4444444444444444,
             "#bd3786"
            ],
            [
             0.5555555555555556,
             "#d8576b"
            ],
            [
             0.6666666666666666,
             "#ed7953"
            ],
            [
             0.7777777777777778,
             "#fb9f3a"
            ],
            [
             0.8888888888888888,
             "#fdca26"
            ],
            [
             1,
             "#f0f921"
            ]
           ]
          },
          "colorway": [
           "#636efa",
           "#EF553B",
           "#00cc96",
           "#ab63fa",
           "#FFA15A",
           "#19d3f3",
           "#FF6692",
           "#B6E880",
           "#FF97FF",
           "#FECB52"
          ],
          "font": {
           "color": "#2a3f5f"
          },
          "geo": {
           "bgcolor": "white",
           "lakecolor": "white",
           "landcolor": "#E5ECF6",
           "showlakes": true,
           "showland": true,
           "subunitcolor": "white"
          },
          "hoverlabel": {
           "align": "left"
          },
          "hovermode": "closest",
          "mapbox": {
           "style": "light"
          },
          "paper_bgcolor": "white",
          "plot_bgcolor": "#E5ECF6",
          "polar": {
           "angularaxis": {
            "gridcolor": "white",
            "linecolor": "white",
            "ticks": ""
           },
           "bgcolor": "#E5ECF6",
           "radialaxis": {
            "gridcolor": "white",
            "linecolor": "white",
            "ticks": ""
           }
          },
          "scene": {
           "xaxis": {
            "backgroundcolor": "#E5ECF6",
            "gridcolor": "white",
            "gridwidth": 2,
            "linecolor": "white",
            "showbackground": true,
            "ticks": "",
            "zerolinecolor": "white"
           },
           "yaxis": {
            "backgroundcolor": "#E5ECF6",
            "gridcolor": "white",
            "gridwidth": 2,
            "linecolor": "white",
            "showbackground": true,
            "ticks": "",
            "zerolinecolor": "white"
           },
           "zaxis": {
            "backgroundcolor": "#E5ECF6",
            "gridcolor": "white",
            "gridwidth": 2,
            "linecolor": "white",
            "showbackground": true,
            "ticks": "",
            "zerolinecolor": "white"
           }
          },
          "shapedefaults": {
           "line": {
            "color": "#2a3f5f"
           }
          },
          "ternary": {
           "aaxis": {
            "gridcolor": "white",
            "linecolor": "white",
            "ticks": ""
           },
           "baxis": {
            "gridcolor": "white",
            "linecolor": "white",
            "ticks": ""
           },
           "bgcolor": "#E5ECF6",
           "caxis": {
            "gridcolor": "white",
            "linecolor": "white",
            "ticks": ""
           }
          },
          "title": {
           "x": 0.05
          },
          "xaxis": {
           "automargin": true,
           "gridcolor": "white",
           "linecolor": "white",
           "ticks": "",
           "title": {
            "standoff": 15
           },
           "zerolinecolor": "white",
           "zerolinewidth": 2
          },
          "yaxis": {
           "automargin": true,
           "gridcolor": "white",
           "linecolor": "white",
           "ticks": "",
           "title": {
            "standoff": 15
           },
           "zerolinecolor": "white",
           "zerolinewidth": 2
          }
         }
        },
        "xaxis": {
         "anchor": "y",
         "domain": [
          0,
          0.45
         ],
         "title": {
          "text": "Epoch"
         }
        },
        "xaxis2": {
         "anchor": "y2",
         "domain": [
          0.55,
          1
         ],
         "title": {
          "text": "TRIP_MILES"
         }
        },
        "yaxis": {
         "anchor": "x",
         "domain": [
          0,
          1
         ],
         "range": [
          2.9964786529541017,
          15.148577690124512
         ],
         "title": {
          "text": "Root Mean Squared Error"
         }
        },
        "yaxis2": {
         "anchor": "x2",
         "domain": [
          0,
          1
         ],
         "title": {
          "text": "FARE"
         }
        }
       }
      }
     },
     "metadata": {},
     "output_type": "display_data"
    }
   ],
   "source": [
    "#@title Code - Experiment 1\n",
    "\n",
    "# The following variables are the hyperparameters.\n",
    "learning_rate = 0.001\n",
    "epochs = 20\n",
    "batch_size = 50\n",
    "\n",
    "# Specify the feature and the label.\n",
    "features = ['TRIP_MILES']\n",
    "label = 'FARE'\n",
    "\n",
    "model_1 = run_experiment(training_df, features, label, learning_rate, epochs, batch_size)"
   ]
  },
  {
   "cell_type": "markdown",
   "id": "e33e020d-0f02-4be9-860c-e445ca3a5b99",
   "metadata": {},
   "source": [
    "### Logistic regression ###"
   ]
  },
  {
   "cell_type": "markdown",
   "id": "09136241-95f1-4bc8-9340-74a243e7f055",
   "metadata": {},
   "source": [
    "After looking at linear regression and regularization techniques it is time that we look at logistic regression. Logistic regression **is a supervised machine learning algorithm** that we use when we need to decide the probability of an instance belonging to a class. It is often used for **binary classification.**\n",
    "\n",
    "#### key ideas: ####\n",
    "- Instead of predicting a continuous value like linear regression, logistic regression predicts a **probability** between 0 and 1.\n",
    "- It uses the **sigmoid (logistic) function** to squash the output of a linear model into that range.\n",
    "\n",
    "The sigmoid function that is used is defined as: \n",
    "$$ \\sigma(z) = \\frac{1}{1+e^{-z}}$$\n",
    "where:\n",
    "$$z = \\beta_0 + \\beta_1 x_1 + \\beta_2 x_2 + \\dots + \\beta_n x_n$$"
   ]
  },
  {
   "cell_type": "markdown",
   "id": "aa503089-839e-4427-9ff0-7ce5417d2b9b",
   "metadata": {},
   "source": [
    "The output that is produced is interpreted as **probability**, it is between 0 and 1."
   ]
  },
  {
   "cell_type": "markdown",
   "id": "2f9b0886-52da-4da9-8e5b-2ca197f0b0d4",
   "metadata": {},
   "source": [
    "Now I will provide a simple example."
   ]
  },
  {
   "cell_type": "code",
   "execution_count": 24,
   "id": "800af9fc-7ce8-4111-ab56-0076e101a3f6",
   "metadata": {},
   "outputs": [
    {
     "name": "stdout",
     "output_type": "stream",
     "text": [
      "accuracy: 0.9\n"
     ]
    }
   ],
   "source": [
    "X,y = make_classification(n_samples=100,n_features=2,n_informative=2,n_redundant=0,random_state=21)\n",
    "\n",
    "X_train,X_test,Y_train, Y_test = train_test_split(X,y,test_size=0.2,random_state=21)\n",
    "\n",
    "model = LogisticRegression()\n",
    "model.fit(X_train,Y_train)\n",
    "\n",
    "y_pred = model.predict(X_test)\n",
    "\n",
    "print(\"accuracy:\",accuracy_score(Y_test,y_pred))"
   ]
  },
  {
   "cell_type": "markdown",
   "id": "5367c276-9d2e-49e9-8e27-367a540b3d3d",
   "metadata": {},
   "source": [
    "Now I will give an example with the sigmoid function:\n"
   ]
  },
  {
   "cell_type": "code",
   "execution_count": 30,
   "id": "4f97eb70-f980-45c3-a7af-c138ed92f646",
   "metadata": {},
   "outputs": [
    {
     "data": {
      "image/png": "[encoded data removed]",
      "text/plain": [
       "<Figure size 800x400 with 1 Axes>"
      ]
     },
     "metadata": {},
     "output_type": "display_data"
    }
   ],
   "source": [
    "def sigmoid(z):\n",
    "    return 1/(1+np.exp(-z))\n",
    "\n",
    "z = np.linspace(-10,10,100)\n",
    "\n",
    "s = sigmoid(z)\n",
    "plt.figure(figsize=(8, 4))\n",
    "plt.plot(z, s, label=r'$\\sigma(z) = \\frac{1}{1 + e^{-z}}$', color='blue')\n",
    "plt.title(\"Sigmoid Activation Function\")\n",
    "plt.xlabel(\"z\")\n",
    "plt.ylabel(\"sigmoid(z)\")\n",
    "plt.grid(True)\n",
    "plt.legend()\n",
    "plt.show()"
   ]
  },
  {
   "cell_type": "markdown",
   "id": "62f6b4d7-1da5-45f7-99a0-22195ac56b9b",
   "metadata": {},
   "source": [
    "\n",
    "Here what we can see is:\n",
    "- The **S-shaped curve** (sigmoid) squashes any real-valued input into a number between **0 and 1**.\n",
    "- At $ z = 0 $, the output is exactly **0.5**.\n",
    "- As $ z \\to +\\infty $, the output approaches **1**.\n",
    "- As $ z \\to -\\infty $, the output approaches **0**."
   ]
  },
  {
   "cell_type": "markdown",
   "id": "9c645706-229b-44cf-bc83-c54555875371",
   "metadata": {},
   "source": [
    "#### Multinomial Logistic Regression ####\n",
    "\n",
    "Many times our data is not binary and the target variables can be more than 2 (also not ordered). In such cases, we use the **softmax function** instead of the sigmoid function. The softmax function generalizes the logistic function to multiple classes and ensures that the predicted probabilities for each class sum to 1.\n",
    "\n",
    "The softmax function for class \\( k \\) is given by:\n",
    "\n",
    "\n",
    "$$\\text{softmax}(\\mathbf{z_i}) = \\frac{e^{z_i}}{\\sum_{j=1}^K e^{z_j}}$$\n",
    "\n",
    "Where:\n",
    "\n",
    "- $ z_i $ is the input to the softmax function for class $k$,\n",
    "- $ K $ is the total number of classes,\n",
    "- The denominator sums over all possible classes to normalize the outputs into a valid probability distribution.\n",
    "\n",
    "\n",
    "The next example is close to the one before but contains more than 2 possible discrete outputs"
   ]
  },
  {
   "cell_type": "code",
   "execution_count": 31,
   "id": "1e0a6170-129a-4d52-af2b-c42423c75c58",
   "metadata": {},
   "outputs": [
    {
     "name": "stdout",
     "output_type": "stream",
     "text": [
      "Logistic Regression model accuracy: 96.66%\n"
     ]
    }
   ],
   "source": [
    "\n",
    "digits = datasets.load_digits()\n",
    "\n",
    "X = digits.data\n",
    "y = digits.target\n",
    "\n",
    "X_train, X_test, y_train, y_test = train_test_split(X, y, test_size=0.4, random_state=1)\n",
    "\n",
    "reg = linear_model.LogisticRegression(max_iter=10000, random_state=0)\n",
    "reg.fit(X_train, y_train)\n",
    "\n",
    "y_pred = reg.predict(X_test)\n",
    "\n",
    "print(f\"Logistic Regression model accuracy: {metrics.accuracy_score(y_test, y_pred) * 100:.2f}%\")"
   ]
  },
  {
   "cell_type": "markdown",
   "id": "0f2e3ddc-2de4-451d-a50f-ea07cc17fffe",
   "metadata": {},
   "source": [
    "### Evaluation ###\n",
    "To evaluate the performance of a multinomial logistic regression model, we typically use:\n",
    "\n",
    "- **Accuracy**: The proportion of correctly predicted labels out of all predictions.\n",
    "- **Confusion Matrix**: A table showing correct and incorrect predictions broken down by each class.\n",
    "- **Precision, Recall, F1-Score**: Useful for imbalanced datasets to measure performance per class.\n",
    "- **Log Loss (Cross-Entropy Loss)**: Measures how close the predicted probabilities are to the true labels.\n",
    "\n",
    "Scikit-learn provides tools like `classification_report`, `confusion_matrix`, and `log_loss` to help with this evaluation.\n",
    "\n",
    "More you can read [here](https://www.geeksforgeeks.org/understanding-logistic-regression/)"
   ]
  },
  {
   "cell_type": "markdown",
   "id": "3592ae34-0061-41d8-9b38-8e23f500a8fb",
   "metadata": {},
   "source": [
    "### Variance inflation vactor ###"
   ]
  },
  {
   "cell_type": "markdown",
   "id": "8b497f39-07c8-4da0-a4be-81a8b53e935c",
   "metadata": {},
   "source": [
    "## Decision trees ##\n",
    "\n",
    "Decision trees are used both in regression and classification tasks, helping us to take easy decisions. It splits the data into subsets based on feature values. It has **nodes, branches and leafes** where each node is a feature, each branch is a decision, each leaf is a prediction. The difference between regression trees and classification trees is that classification trees **classifies into categories**, whereas regression trees predicts a numeric value."
   ]
  },
  {
   "cell_type": "markdown",
   "id": "6eab80d8-0a56-4beb-acc0-e26f88fccb2d",
   "metadata": {},
   "source": [
    "![decision tree](https://storage.googleapis.com/algodailyrandomassets/curriculum/Data_Science/Getting%20to%20Know%20Decision%20Trees/decision_tree.png)"
   ]
  },
  {
   "cell_type": "markdown",
   "id": "b080f947-ecb2-48e9-ae18-ae2a9221cee5",
   "metadata": {},
   "source": [
    "Considering the fact that there are many different features a reasonable question is from which one we should start. There are a couple of methods to decide.\n",
    "- **Gini impurity** (classification)\n",
    "- **Entropy / Information Gain** (classification)\n",
    "- **MSE**(regression)"
   ]
  },
  {
   "cell_type": "markdown",
   "id": "ea96aeb5-dd8a-4796-9ba0-02a06cbf1719",
   "metadata": {},
   "source": [
    "##pruning"
   ]
  },
  {
   "cell_type": "markdown",
   "id": "6ed2a336-d4f9-494f-8cb0-bf9baee60011",
   "metadata": {},
   "source": [
    "###  Gini Impurity Explained\n",
    "\n",
    "**Gini Impurity** is a metric used in decision trees (especially in classification tasks) to evaluate how \"pure\" a node is.\n",
    "\n",
    "A node is **pure** if all the data points in it belong to the same class. The Gini Impurity measures the probability that a randomly chosen element would be incorrectly labeled if it were randomly labeled according to the distribution of labels in the node.\n",
    "\n",
    "![Gini](https://storage.googleapis.com/lds-media/images/gini-impurity-diagram.width-1200.png)\n",
    "\n",
    "\n",
    "#### Formula:\n",
    "\n",
    "For a node with $ K $ classes, Gini Impurity is defined as:\n",
    "\n",
    "$$\n",
    "G = 1 - \\sum_{i=1}^{K} p_i^2\n",
    "$$\n",
    "\n",
    "Where:\n",
    "- $ p_i $ is the probability (or proportion) of class $ i $ in the node.\n",
    "- $ K $ is the number of classes.\n",
    "\n",
    "\n",
    "That means:\n",
    "\n",
    "- If all examples belong to **one class**, \\( G = 0 \\) → **perfect purity**.\n",
    "- If the classes are **evenly distributed**, \\( G \\) is at its **maximum** → **high impurity**.\n",
    "\n",
    "\n",
    "\n",
    "#### Example:\n",
    "\n",
    "Suppose we have a node with the following distribution:\n",
    "\n",
    "- 4 samples of class A\n",
    "- 6 samples of class B\n",
    "\n",
    "Then:\n",
    "\n",
    "$$\n",
    "p_A = \\frac{4}{10}, \\quad p_B = \\frac{6}{10}\n",
    "$$\n",
    "\n",
    "$$\n",
    "G = 1 - (0.4^2 + 0.6^2) = 1 - (0.16 + 0.36) = 1 - 0.52 = 0.48\n",
    "$$\n",
    "\n",
    "So the impurity of this node is **0.48**.\n",
    "\n",
    "\n",
    "####  What is the advantage?\n",
    "\n",
    "- Gini is fast to compute and works well in practice.\n",
    "- It is the default in many libraries (e.g., `sklearn.tree.DecisionTreeClassifier`).\n",
    "\n"
   ]
  },
  {
   "cell_type": "markdown",
   "id": "1e8cc349-cd37-4892-b07b-1a8fb9f592b2",
   "metadata": {},
   "source": [
    "### Information Entropy in Decision Trees\n",
    "\n",
    "**Entropy** is a fundamental concept from information theory that measures the amount of **uncertainty** or **impurity** in a dataset.\n",
    "\n",
    "In decision trees (like ID3), entropy is used to decide which feature to split on by measuring how \"mixed\" the class labels are at a given node.\n",
    "\n",
    "\n",
    "### The formula ###\n",
    "\n",
    "For a dataset with $ K $ classes and probabilities $ p_1, p_2, ..., p_K $:\n",
    "\n",
    "$\n",
    "\\text{Entropy}(S) = - \\sum_{i=1}^{K} p_i \\log_2(p_i)\n",
    "$\n",
    "\n",
    "Where:\n",
    "- $ p_i $ is the proportion of elements in class $ i $\n",
    "- The log is base 2 (measuring bits of information)\n",
    "\n",
    "\n",
    "Keeping that in mind:\n",
    "\n",
    "\n",
    "- If the dataset is **pure** (all examples belong to one class), entropy = 0 (no uncertainty).\n",
    "- If the dataset is **uniformly mixed** (e.g., 50% class A, 50% class B), entropy is **maximum**.\n",
    "\n",
    "| Class Distribution         | Entropy       |\n",
    "|---------------------------|---------------|\n",
    "| 100% A                    | 0             |\n",
    "| 50% A, 50% B              | 1 (max for 2 classes) |\n",
    "| 70% A, 30% B              | ~0.88         |\n",
    "\n",
    "\n",
    "\n",
    "### In decision trees ###\n",
    "\n",
    "When building a decision tree:\n",
    "1. We calculate the **entropy of the parent node**.\n",
    "2. We try different feature splits and compute the **entropy of the child nodes**.\n",
    "3. We use **Information Gain** to measure how much the split reduces entropy:\n",
    "\n",
    "$\n",
    "\\text{Information Gain} = \\text{Entropy(parent)} - \\sum \\left( \\frac{|S_v|}{|S|} \\cdot \\text{Entropy}(S_v) \\right)\n",
    "$\n",
    "\n",
    "Where:\n",
    "- $ S $ is the set before the split\n",
    "- $ S_v $ are the subsets created by splitting on a feature\n",
    "\n",
    "We choose the feature with the **highest information gain** for the split.\n",
    "\n",
    "\n",
    "\n",
    "That means:\n",
    "\n",
    "- **Entropy** quantifies uncertainty in the class labels.\n",
    "- **Information Gain** is the reduction in entropy after a dataset is split.\n",
    "- **The goal is to build a tree that splits data in a way that quickly reduces entropy and leads to pure leaf nodes.**\n",
    "\n",
    "\n",
    "However we must note that overfitting is possible and reducing the entropy to 0 is not the best possible approach"
   ]
  },
  {
   "cell_type": "markdown",
   "id": "18ec4671-644c-40d1-9774-8fb7278fb660",
   "metadata": {},
   "source": [
    "### Example: Entropy and Information Gain\n",
    "\n",
    "We want to decide whether to play tennis based on the weather. Here's a simplified dataset:\n",
    "\n",
    "| Outlook   | Play Tennis |\n",
    "|-----------|-------------|\n",
    "| Sunny     | No          |\n",
    "| Sunny     | No          |\n",
    "| Overcast  | Yes         |\n",
    "| Rainy     | Yes         |\n",
    "| Rainy     | No          |\n",
    "| Rainy     | Yes         |\n",
    "| Overcast  | Yes         |\n",
    "| Sunny     | Yes         |\n",
    "| Sunny     | Yes         |\n",
    "| Rainy     | Yes         |\n",
    "| Sunny     | No          |\n",
    "| Overcast  | Yes         |\n",
    "| Overcast  | Yes         |\n",
    "| Rainy     | No          |\n",
    "\n",
    "We have:\n",
    "- 9 \"Yes\"  \n",
    "- 5 \"No\"  \n",
    "- Total: 14 samples\n",
    "\n",
    "\n",
    "## Step 1: Total Entropy\n",
    "\n",
    "$$\n",
    "\\text{Entropy}(S) = -p_{\\text{Yes}} \\log_2(p_{\\text{Yes}}) - p_{\\text{No}} \\log_2(p_{\\text{No}})\n",
    "$$\n",
    "\n",
    "$$\n",
    "p_{\\text{Yes}} = \\frac{9}{14}, \\quad p_{\\text{No}} = \\frac{5}{14}\n",
    "$$\n",
    "\n",
    "$$\n",
    "\\text{Entropy}(S) = -\\frac{9}{14} \\log_2\\left(\\frac{9}{14}\\right) - \\frac{5}{14} \\log_2\\left(\\frac{5}{14}\\right) \\approx 0.940\n",
    "$$\n",
    "\n",
    "\n",
    "## Step 2: Entropy for \"Outlook\"\n",
    "\n",
    "We divide the dataset by the values of the `Outlook` feature.\n",
    "\n",
    "### Outlook = Sunny (5 samples):  \n",
    "- 2 Yes, 3 No\n",
    "\n",
    "$$\n",
    "\\text{Entropy}_{\\text{Sunny}} = -\\frac{2}{5} \\log_2\\left(\\frac{2}{5}\\right) - \\frac{3}{5} \\log_2\\left(\\frac{3}{5}\\right) \\approx 0.971\n",
    "$$\n",
    "\n",
    "### Outlook = Overcast (4 samples):  \n",
    "- 4 Yes → Pure class\n",
    "\n",
    "$$\n",
    "\\text{Entropy}_{\\text{Overcast}} = -1 \\cdot \\log_2(1) = 0\n",
    "$$\n",
    "\n",
    "### Outlook = Rainy (5 samples):  \n",
    "- 3 Yes, 2 No\n",
    "\n",
    "$$\n",
    "\\text{Entropy}_{\\text{Rainy}} = -\\frac{3}{5} \\log_2\\left(\\frac{3}{5}\\right) - \\frac{2}{5} \\log_2\\left(\\frac{2}{5}\\right) \\approx 0.971\n",
    "$$\n",
    "\n",
    "\n",
    "### Step 3: Information Gain for \"Outlook\"\n",
    "\n",
    "We calculate the weighted average entropy after the split:\n",
    "\n",
    "$$\n",
    "\\text{Entropy}_{\\text{after split}} = \\frac{5}{14} \\cdot 0.971 + \\frac{4}{14} \\cdot 0 + \\frac{5}{14} \\cdot 0.971\n",
    "$$\n",
    "\n",
    "$$\n",
    "= 0.3475 + 0 + 0.3475 = 0.695\n",
    "$$\n",
    "\n",
    "Now compute Information Gain:\n",
    "\n",
    "$$\n",
    "\\text{Information Gain} = \\text{Entropy}_{\\text{parent}} - \\text{Entropy}_{\\text{after split}}\n",
    "$$\n",
    "\n",
    "$$\n",
    "\\text{IG(Outlook)} = 0.940 - 0.695 = \\mathbf{0.245}\n",
    "$$\n",
    "\n",
    "\n",
    "### Conclusion\n",
    "\n",
    "- Entropy quantifies uncertainty (impurity) in class labels.\n",
    "- Information Gain tells us how much entropy is reduced after a split.\n",
    "- The feature with the **highest Information Gain** is chosen to split the node.\n",
    "\n",
    "In the example shown we did not have to compare how different features would reduce the entropy for simplicity of the example."
   ]
  },
  {
   "cell_type": "code",
   "execution_count": 1,
   "id": "2d1c6c83-2daf-4677-bb6a-771e41c14209",
   "metadata": {},
   "outputs": [],
   "source": [
    "## write it in code ##"
   ]
  },
  {
   "cell_type": "markdown",
   "id": "63c736de-1726-4f3e-aef4-ad48e0b2a993",
   "metadata": {},
   "source": [
    "### Problems with decision trees ###\n",
    "\n",
    "\n",
    "\n",
    "\n",
    "#### 1. **Overfitting**\n",
    "- Decision trees are prone to overfitting, especially when they are too deep. They can model the noise in the data, leading to poor generalization.\n",
    "\n",
    "#### **Solution**: \n",
    "- Pruning and regularization (limiting tree depth, minimum samples for split).\n",
    "\n",
    "\n",
    "\n",
    "#### 2. **Instability**\n",
    "- A small change in the data can result in a completely different tree structure.\n",
    "\n",
    "#### **Solution**:\n",
    "- **Ensemble methods** like **Random Forests** or **Gradient Boosting** help stabilize predictions by averaging results from multiple trees.\n",
    "\n",
    "\n",
    "\n",
    "#### 3. **High Variance**\n",
    "- Decision trees have high variance and perform well on training data but poorly on unseen data (overfitting).\n",
    "\n",
    "#### **Solution**:\n",
    "- Ensemble techniques reduce variance, improving generalization.\n",
    "\n",
    "\n",
    "\n",
    "#### 4. **Poor Handling of Complex Relationships**\n",
    "- Decision trees struggle with complex, non-linear relationships and might not model data patterns effectively.\n",
    "\n",
    "#### **Solution**:\n",
    "- **Random Forest** or **Gradient Boosting** can capture complex relationships better.\n",
    "\n",
    "\n",
    "\n",
    "#### 5. **Interpretability Issues in Deep Trees**\n",
    "- While decision trees are easy to understand, deep trees can become complex and hard to interpret.\n",
    "\n",
    "#### **Solution**:\n",
    "- Limiting depth through pruning helps maintain interpretability.\n",
    "\n",
    "\n",
    "\n",
    "#### Conclusion:\n",
    "While decision trees are simple and effective, their limitations (overfitting, instability, and poor handling of complexity) can be overcome using **Random Forests** or **Gradient Boosting**, which aggregate multiple decision trees to improve stability and accuracy.\n"
   ]
  },
  {
   "cell_type": "markdown",
   "id": "0e47c52a-ffb1-44d8-b382-09d93f7f888b",
   "metadata": {},
   "source": [
    "## Random forest ##"
   ]
  },
  {
   "cell_type": "markdown",
   "id": "477d2d0a-8047-4bba-a0f7-6a469201a849",
   "metadata": {},
   "source": [
    "Now that we have already explained the basics of decision trees we will move to a better version of them. First of all let us go through the definition of a random forest.\n",
    "\n",
    "#### What is it? \n",
    "A Random Forest is an ensemble learning technique that combines multiple decision trees to improve accuracy and reduce overfitting. It belongs to the family of bagging algorithms (Bootstrap Aggregating).\n",
    "\n",
    "First of all **ensemble methods combine the predictions from multiple models to make a final prediction**\n",
    "#### How do we do it?\n",
    "\n",
    "#### 1. Bootstrapping (Sampling with Replacement)\n",
    "\n",
    "- Randomly sample the original dataset **with replacement** to create multiple new training datasets.\n",
    "- Each of these **bootstrap samples** may contain some **duplicated examples** from the original dataset.\n",
    "\n",
    "\n",
    "#### 2. Training Multiple Decision Trees\n",
    "\n",
    "- Build a separate **decision tree** for each bootstrap sample.\n",
    "- Trees are **not built using all features**.\n",
    "- At **each node**, only a **random subset of features** is considered for splitting.  \n",
    "  → This introduces **additional randomness** and reduces correlation between trees.\n",
    "\n",
    "\n",
    "#### 3. Making Predictions\n",
    "\n",
    "- **For Classification**:  \n",
    "  Each tree makes a class prediction → The final result is the **majority vote** across all trees.\n",
    "\n",
    "- **For Regression**:  \n",
    "  Each tree outputs a numerical value → The final result is the **average** of these outputs.\n",
    "\n",
    "\n",
    "\n",
    "#### 4. Final Result\n",
    "\n",
    "- The **Random Forest** model combines all the individual tree predictions to make a final prediction.\n",
    "- This generally improves:\n",
    "  - **Accuracy**\n",
    "  - **Robustness**\n",
    "  - **Generalization** over a single decision tree.\n",
    "\n",
    "\n",
    "## Out-of-Bag (OOB) Evaluation\n",
    "\n",
    "- When creating each bootstrap sample (training subset), **some data points are left out** — these are called **Out-of-Bag (OOB)** samples.\n",
    "- On average, about **1/3 of the data** is not included in each bootstrap sample.\n",
    "- These OOB samples are then used to **test the performance** of the corresponding tree.\n",
    "- By aggregating the predictions for all OOB samples across all trees, we get a reliable estimate of the model’s **generalization error** — without needing a separate validation set.\n",
    "\n",
    "###  Benefits:\n",
    "- Efficient and **free validation** (no need for cross-validation).\n",
    "- Helps prevent **overfitting** during training.\n",
    "\n",
    "\n",
    "At the end having the generalization error we could **change the number of used feature** and create the best random forest possible. \n"
   ]
  },
  {
   "cell_type": "code",
   "execution_count": 1,
   "id": "125e5876-0839-4121-a168-68c2302f66a3",
   "metadata": {},
   "outputs": [
    {
     "name": "stdout",
     "output_type": "stream",
     "text": [
      " Accuracy on Test Set: 1.0\n",
      "\n",
      " Classification Report:\n",
      "               precision    recall  f1-score   support\n",
      "\n",
      "           0       1.00      1.00      1.00        10\n",
      "           1       1.00      1.00      1.00         9\n",
      "           2       1.00      1.00      1.00        11\n",
      "\n",
      "    accuracy                           1.00        30\n",
      "   macro avg       1.00      1.00      1.00        30\n",
      "weighted avg       1.00      1.00      1.00        30\n",
      "\n",
      " Out-of-Bag Score: 0.9166666666666666\n"
     ]
    },
    {
     "data": {
      "image/png": "[encoded data removed]",
      "text/plain": [
       "<Figure size 800x500 with 1 Axes>"
      ]
     },
     "metadata": {},
     "output_type": "display_data"
    }
   ],
   "source": [
    "# 🌳 Random Forest Example with Iris Dataset\n",
    "\n",
    "from sklearn.datasets import load_iris\n",
    "from sklearn.ensemble import RandomForestClassifier\n",
    "from sklearn.model_selection import train_test_split\n",
    "from sklearn.metrics import accuracy_score, classification_report\n",
    "import pandas as pd\n",
    "import matplotlib.pyplot as plt\n",
    "\n",
    "# 1. Load dataset\n",
    "iris = load_iris()\n",
    "X = pd.DataFrame(iris.data, columns=iris.feature_names)\n",
    "y = iris.target\n",
    "\n",
    "\n",
    "X_train, X_test, y_train, y_test = train_test_split(X, y, test_size=0.2, random_state=42)\n",
    "\n",
    "\n",
    "model = RandomForestClassifier(\n",
    "    n_estimators=100,          \n",
    "    oob_score=True,             # enable OOB evaluation\n",
    "    random_state=42\n",
    ")\n",
    "model.fit(X_train, y_train)\n",
    "\n",
    "\n",
    "y_pred = model.predict(X_test)\n",
    "\n",
    "\n",
    "print(\" Accuracy on Test Set:\", accuracy_score(y_test, y_pred))\n",
    "print(\"\\n Classification Report:\\n\", classification_report(y_test, y_pred))\n",
    "print(\" Out-of-Bag Score:\", model.oob_score_)\n",
    "\n",
    "\n",
    "importances = model.feature_importances_\n",
    "features = X.columns\n",
    "plt.figure(figsize=(8, 5))\n",
    "plt.barh(features, importances, color='forestgreen')\n",
    "plt.xlabel(\"Feature Importance\")\n",
    "plt.title(\" Random Forest Feature Importance\")\n",
    "plt.grid(True, linestyle='--', alpha=0.6)\n",
    "plt.show()\n"
   ]
  },
  {
   "cell_type": "code",
   "execution_count": 39,
   "id": "cc3e2b98-c154-4635-8171-d2f90bb187ed",
   "metadata": {},
   "outputs": [
    {
     "name": "stdout",
     "output_type": "stream",
     "text": [
      "   RowNumber  CustomerId   Surname  CreditScore Geography  Gender  Age  \\\n",
      "0          1    15634602  Hargrave          619    France  Female   42   \n",
      "1          2    15647311      Hill          608     Spain  Female   41   \n",
      "2          3    15619304      Onio          502    France  Female   42   \n",
      "\n",
      "   Tenure    Balance  NumOfProducts  HasCrCard  IsActiveMember  \\\n",
      "0       2       0.00              1          1               1   \n",
      "1       1   83807.86              1          0               1   \n",
      "2       8  159660.80              3          1               0   \n",
      "\n",
      "   EstimatedSalary  Exited  \n",
      "0        101348.88       1  \n",
      "1        112542.58       0  \n",
      "2        113931.57       1  \n"
     ]
    }
   ],
   "source": [
    "import xgboost as xgb\n",
    "dataset = pd.read_csv('data/Churn_Modelling.csv')\n",
    "X = dataset.iloc[:,3:13]\n",
    "y = dataset.iloc[:, 13].values\n",
    "print(dataset.head(3))"
   ]
  },
  {
   "cell_type": "markdown",
   "id": "a8684d93-b5a0-4a8b-b4aa-49c319df7efa",
   "metadata": {},
   "source": [
    "Now I am going to convert two of the features into category type since XGboost handles categorical features internally."
   ]
  },
  {
   "cell_type": "code",
   "execution_count": 40,
   "id": "d051959c-c732-4164-80cc-e611ca684c40",
   "metadata": {},
   "outputs": [],
   "source": [
    "X['Geography'] = X[\"Geography\"].astype('category')\n",
    "X['Gender'] = X[\"Gender\"].astype('category')"
   ]
  },
  {
   "cell_type": "code",
   "execution_count": 41,
   "id": "092252d3-d660-4a9d-bdf0-e2b0cf823b07",
   "metadata": {},
   "outputs": [],
   "source": [
    "X_train,X_test,y_train,y_test = train_test_split(X,y,test_size=0.75,random_state=0)\n",
    "\n",
    "xgb_train = xgb.DMatrix(X_train,y_train,enable_categorical=True)\n",
    "xgb_test = xgb.DMatrix(X_test,y_test,enable_categorical=True)\n"
   ]
  },
  {
   "cell_type": "code",
   "execution_count": 44,
   "id": "3f9958e0-fa13-40e1-844f-367908d2d069",
   "metadata": {},
   "outputs": [
    {
     "name": "stderr",
     "output_type": "stream",
     "text": [
      "C:\\Users\\mitko\\AppData\\Local\\Programs\\Python\\Python311\\Lib\\site-packages\\xgboost\\training.py:183: UserWarning: [19:29:29] WARNING: C:\\actions-runner\\_work\\xgboost\\xgboost\\src\\learner.cc:738: \n",
      "Parameters: { \"max-depth\" } are not used.\n",
      "\n",
      "  bst.update(dtrain, iteration=i, fobj=obj)\n"
     ]
    },
    {
     "data": {
      "text/plain": [
       "0.8584"
      ]
     },
     "execution_count": 44,
     "metadata": {},
     "output_type": "execute_result"
    }
   ],
   "source": [
    "import numpy as np\n",
    "params = {\n",
    "    'objective':'binary:logistic',\n",
    "    'max-depth':3,\n",
    "    'learning_rate':0.1,\n",
    "}\n",
    "n=50\n",
    "model = xgb.train(params=params,dtrain=xgb_train,num_boost_round=50)\n",
    "\n",
    "preds = model.predict(xgb_test)\n",
    "preds = np.round(preds)\n",
    "accuracy = accuracy_score(y_test,preds)\n",
    "accuracy"
   ]
  },
  {
   "cell_type": "markdown",
   "id": "4c282617-cdc5-4cb0-85e5-3c4c0d3d8d6b",
   "metadata": {
    "jp-MarkdownHeadingCollapsed": true
   },
   "source": [
    "### References ###\n",
    "- https://www.bing.com/search?q=what+is+pruning+in+ml&cvid=36ac65e8385a446fbc35cccd24fdd0a4&gs_lcrp=EgRlZGdlKgYIABBFGDkyBggAEEUYOTIGCAEQABhAMgYIAhAAGEAyBggDEAAYQDIGCAQQABhAMgYIBRAAGEAyBggGEAAYQDIGCAcQABhA0gEIMzg5MmowajmoAgiwAgE&FORM=ANAB01&adppc=EDGEESS&PC=W069\n",
    "- https://www.youtube.com/watch?v=J4Wdy0Wc_xQ"
   ]
  },
  {
   "cell_type": "code",
   "execution_count": null,
   "id": "86cecbe4-bdb9-4987-ad37-71f2f1293ff8",
   "metadata": {},
   "outputs": [],
   "source": []
  }
 ],
 "metadata": {
  "kernelspec": {
   "display_name": "Python 3 (ipykernel)",
   "language": "python",
   "name": "python3"
  },
  "language_info": {
   "codemirror_mode": {
    "name": "ipython",
    "version": 3
   },
   "file_extension": ".py",
   "mimetype": "text/x-python",
   "name": "python",
   "nbconvert_exporter": "python",
   "pygments_lexer": "ipython3",
   "version": "3.11.4"
  }
 },
 "nbformat": 4,
 "nbformat_minor": 5
}
