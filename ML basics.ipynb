{
 "cells": [
  {
   "cell_type": "code",
   "execution_count": 21,
   "id": "3ce7a42b-f99c-402c-ab2b-860d7ac7cd26",
   "metadata": {},
   "outputs": [],
   "source": [
    "import numpy as np\n",
    "from sklearn.linear_model import Ridge, Lasso, RidgeCV, LassoCV\n",
    "from sklearn.datasets import make_regression\n",
    "import matplotlib.pyplot as plt\n",
    "from sklearn.datasets import make_classification\n",
    "from sklearn.linear_model import LogisticRegression\n",
    "from sklearn.model_selection import train_test_split\n",
    "from sklearn.metrics import accuracy_score\n",
    "from sklearn.model_selection import train_test_split\n",
    "from sklearn import datasets, linear_model, metrics\n"
   ]
  },
  {
   "cell_type": "markdown",
   "id": "df742aca-43e8-4df9-b028-93931c0c88ed",
   "metadata": {},
   "source": [
    "### Linear regression ###"
   ]
  },
  {
   "cell_type": "markdown",
   "id": "c592735f-3428-4fc6-b57e-0e1e1a1e4ec2",
   "metadata": {},
   "source": [
    "We call Y the dependent variable and X is the independent variable or the predictor of Y. To get used with the terminology:\n",
    "\n"
   ]
  },
  {
   "cell_type": "markdown",
   "id": "0ac95583-412b-47d2-84ba-0700141e0255",
   "metadata": {},
   "source": [
    "### Rigde regression ###"
   ]
  },
  {
   "cell_type": "markdown",
   "id": "a6c34802-3c84-4fcb-a76e-2ea232142222",
   "metadata": {},
   "source": [
    "When speaking of linear regression there are some problems that we might encounter. First of all the formula that explains it is:\n",
    "$$\\mathcal{L}({\\beta}) = \\sum_{i=1}^{n} \\left(y_i - \\hat{y}_i \\right)^2 + \\lambda \\sum_{j=1}^{p} \\beta_j^2\n",
    "$$\n",
    "where,\n",
    "- $y_i$ is the true value\n",
    "- $\\hat{y_i}$ is the predicted value\n",
    "- $\\beta_j$ are the model coeff\n",
    "- $\\lambda$ is the regularization strength\n",
    "- $n$ is the number of samples, $p$ is the number of features\n",
    "\n",
    "The idea behind is that we can address **the issue of multicollinearity among predictor variables.** The first part of our equation if the **OLS(ordinary least squares)** and the second part is a **regularization term, reducing variance by penalizing large coeffs**\n",
    "\n",
    "The other issue that we are fighting against is **overfitting**. The introduced regularization term allows us to use smaller coefficients and thus ignore more or less noise allowing for a better explanation of the data. When lambda increases we shrink the coeffs of correlated features reducing the effect of multicollinearity. \n",
    "To understand better look at the following picture:\n",
    "![Ridge](https://www.statology.org/wp-content/uploads/2020/11/ridge2-1024x733.png)"
   ]
  },
  {
   "cell_type": "markdown",
   "id": "57f55e34-5c62-4764-a3cb-95f1286f7ac7",
   "metadata": {},
   "source": [
    "From the graph we see something called **Bias-Variance tradeoff.** The whole idea of the Ridge regression is to make a model that can describe the data well. However sometimes choosing the lowest possible bias, for example using LSE could lead to high variance in the testing data. Therefore we adjust the lambda parameter in orther to achieve a good balance. **No overfitting, no underfitting**. "
   ]
  },
  {
   "cell_type": "markdown",
   "id": "f2fd5c97-b734-4d60-b62e-54a28de333df",
   "metadata": {},
   "source": [
    "### Choosing the parameter ###"
   ]
  },
  {
   "cell_type": "markdown",
   "id": "706432d3-c3a3-4998-8720-d3c86ee07663",
   "metadata": {},
   "source": [
    "As we already aid choosing the $\\lambda$ parameter is the key to a good Ridge regression. There are a couple of methods we could do that. The most popular one is using **cross-validation.**\n",
    "\n",
    "The idea behind cross validation is that we divide the data into subsets, train on some, test on the other."
   ]
  },
  {
   "cell_type": "markdown",
   "id": "3c59bc79-01a9-432f-8ecb-23f19228dc9b",
   "metadata": {},
   "source": [
    "### Lasso regression ###"
   ]
  },
  {
   "cell_type": "markdown",
   "id": "8a04a2fe-3947-44b0-8e10-caa8b8763132",
   "metadata": {},
   "source": [
    "Lasso regression(L1 regularization) is another method that is often used when we have lots of features, want to deal with the problem of multicollinearity, have little training data. However it handles the issues in different manners. The formula for the lasso regression is:$$\n",
    "\\mathcal{L}(\\boldsymbol{\\beta}) = \\sum_{i=1}^{n} \\left(y_i - \\hat{y}_i \\right)^2 + \\lambda \\sum_{j=1}^{p} \\left| \\beta_j \\right|\n",
    "$$\n"
   ]
  },
  {
   "cell_type": "markdown",
   "id": "e7b16f1f-f2f4-42b8-bbde-f637160306a7",
   "metadata": {},
   "source": [
    "The main difference between Ridge and Lasso regression is that Lasso regression allows for some of the parameters to be equal to zero, whereas Ridge regression only reduces them asymptotically to zero. This is to say that Lasso regression is appropriate for cases when we know that we have some important features and the others hardly contribute. However when we know that all the features might have some importance Ridge regression is the better approach."
   ]
  },
  {
   "cell_type": "markdown",
   "id": "ddd78616-1437-4be9-b0d8-b68eae35d913",
   "metadata": {},
   "source": [
    "Now we are going to give some practical examples of the things we discussed."
   ]
  },
  {
   "cell_type": "code",
   "execution_count": 5,
   "id": "a0e4ae42-6bec-46a8-a3b7-c7d713b85fe3",
   "metadata": {},
   "outputs": [
    {
     "name": "stdout",
     "output_type": "stream",
     "text": [
      "Real coefs: [79.974115    0.          0.         28.46204847  0.          0.\n",
      " 63.44214434  0.          0.          0.          0.          0.\n",
      " 51.42269599 37.8351338   0.          0.          0.          0.\n",
      "  0.          0.        ]\n",
      "Ridge coeff: [77.4188929   0.34779454  0.63871091 27.9557937  -1.36718829  0.13404866\n",
      " 63.64122841 -0.37268619 -0.62009397  0.81802046  2.26065874  1.08593548\n",
      " 49.82999059 37.32125818  1.4488047   1.36110052  1.17255623  0.59474837\n",
      "  1.06022422  2.09383751]\n",
      "Lasso coeff: [77.64215846  0.          0.         27.15078503 -0.46143604 -0.\n",
      " 63.42104627 -0.         -0.          0.          1.42735036  0.52329546\n",
      " 49.68197168 36.65441557  0.63270716  0.18967176  0.         -0.\n",
      "  0.          0.89626653]\n"
     ]
    }
   ],
   "source": [
    "\n",
    "\n",
    "X, y, coef = make_regression(\n",
    "    n_samples=100,\n",
    "    n_features = 20,\n",
    "    n_informative=5,\n",
    "    noise = 10.0,\n",
    "    coef=True,\n",
    "    random_state=20\n",
    ")\n",
    "\n",
    "#printing the true coefs\n",
    "print(\"Real coefs:\", coef)\n",
    "ridge = Ridge(alpha=1.0)\n",
    "ridge.fit(X,y)\n",
    "\n",
    "lasso = Lasso(alpha=1.0)\n",
    "lasso.fit(X,y)\n",
    "\n",
    "print(\"Ridge coeff:\",ridge.coef_)\n",
    "print(\"Lasso coeff:\",lasso.coef_)"
   ]
  },
  {
   "cell_type": "markdown",
   "id": "899981e8-a8a0-41ee-a360-9f5acc2ae266",
   "metadata": {},
   "source": [
    "As we see from this example both the ridge and lasso coeffs were able to fit nicely. However, as we already discussed, lasso was able to remove some of the features completely, whereas ridge only reduced them asymptotically towards 0.\n",
    "\n",
    "Now let us see which features the lasso finds unnecessary."
   ]
  },
  {
   "cell_type": "code",
   "execution_count": 17,
   "id": "090a70f6-1f77-4e54-b07c-3bf62e24b900",
   "metadata": {},
   "outputs": [
    {
     "name": "stdout",
     "output_type": "stream",
     "text": [
      "\n",
      "Lasso eliminated feature indices: [ 1  2  5  7  8  9 16 17 18]\n"
     ]
    }
   ],
   "source": [
    "zero_coeffs = np.where(lasso.coef_ == 0)[0]\n",
    "print(\"\\nLasso eliminated feature indices:\", zero_coeffs)\n"
   ]
  },
  {
   "cell_type": "markdown",
   "id": "70f725fe-d758-4f70-9be5-af5df7688902",
   "metadata": {},
   "source": [
    "In the code above we have already specified the **alpha** (**lambda**) best for the the fit. However we don't know what it is in general. We are going to use **cross-validation** to decide.\n",
    "\n"
   ]
  },
  {
   "cell_type": "code",
   "execution_count": 18,
   "id": "737b71ca-3bef-49f2-9adb-2f905b16279d",
   "metadata": {},
   "outputs": [
    {
     "name": "stdout",
     "output_type": "stream",
     "text": [
      "Best alpha for Ridge: 1.0\n",
      "Best alphas for Lasso: 1.0\n"
     ]
    }
   ],
   "source": [
    "alphas = [0.01,0.1,1,10,100]\n",
    "\n",
    "ridge_cv = RidgeCV(alphas=alphas,cv = 5)\n",
    "ridge_cv.fit(X,y)\n",
    "\n",
    "print(\"Best alpha for Ridge:\",ridge_cv.alpha_)\n",
    "\n",
    "lasso_cv = LassoCV(alphas=alphas,cv=5)\n",
    "lasso_cv.fit(X,y)\n",
    "\n",
    "print(\"Best alphas for Lasso:\",lasso_cv.alpha_)"
   ]
  },
  {
   "cell_type": "code",
   "execution_count": 16,
   "id": "357fc1fa-89e9-48c2-966a-5d7a88e0854c",
   "metadata": {},
   "outputs": [
    {
     "data": {
      "image/png": "[encoded data removed]",
      "text/plain": [
       "<Figure size 1000x500 with 1 Axes>"
      ]
     },
     "metadata": {},
     "output_type": "display_data"
    }
   ],
   "source": [
    "plt.figure(figsize=(10, 5))\n",
    "plt.plot(coef, 'o-', label='True Coefficients')\n",
    "plt.plot(ridge.coef_, 's--', label='Ridge Coefficients')\n",
    "plt.plot(lasso.coef_, 'x--', label='Lasso Coefficients')\n",
    "plt.axhline(0, color='gray', linestyle='--', linewidth=0.5)\n",
    "plt.legend()\n",
    "plt.title(\"True vs Ridge vs Lasso Coefficients\")\n",
    "plt.xlabel(\"Feature Index\")\n",
    "plt.ylabel(\"Coefficient Value\")\n",
    "plt.grid(True)\n",
    "plt.show()"
   ]
  },
  {
   "cell_type": "markdown",
   "id": "a4451450-b89b-4ba2-9305-8b3f522de60c",
   "metadata": {},
   "source": [
    "**This shows us that ridge and Lasso were both able to find the right coeffs.**"
   ]
  },
  {
   "cell_type": "markdown",
   "id": "e33e020d-0f02-4be9-860c-e445ca3a5b99",
   "metadata": {},
   "source": [
    "### Logistic regression ###"
   ]
  },
  {
   "cell_type": "markdown",
   "id": "09136241-95f1-4bc8-9340-74a243e7f055",
   "metadata": {},
   "source": [
    "After looking at linear regression and regularization techniques it is time that we look at logistic regression. Logistic regression **is a supervised machine learning algorithm** that we use when we need to decide the probability of an instance belonging to a class. It is often used for **binary classification.**\n",
    "\n",
    "#### key ideas: ####\n",
    "- Instead of predicting a continuous value like linear regression, logistic regression predicts a **probability** between 0 and 1.\n",
    "- It uses the **sigmoid (logistic) function** to squash the output of a linear model into that range.\n",
    "\n",
    "The sigmoid function that is used is defined as: \n",
    "$$ \\sigma(z) = \\frac{1}{1+e^{-z}}$$\n",
    "where:\n",
    "$$z = \\beta_0 + \\beta_1 x_1 + \\beta_2 x_2 + \\dots + \\beta_n x_n$$"
   ]
  },
  {
   "cell_type": "markdown",
   "id": "aa503089-839e-4427-9ff0-7ce5417d2b9b",
   "metadata": {},
   "source": [
    "The output that is produced is interpreted as **probability**, it is between 0 and 1."
   ]
  },
  {
   "cell_type": "markdown",
   "id": "2f9b0886-52da-4da9-8e5b-2ca197f0b0d4",
   "metadata": {},
   "source": [
    "Now I will provide a simple example."
   ]
  },
  {
   "cell_type": "code",
   "execution_count": 24,
   "id": "800af9fc-7ce8-4111-ab56-0076e101a3f6",
   "metadata": {},
   "outputs": [
    {
     "name": "stdout",
     "output_type": "stream",
     "text": [
      "accuracy: 0.9\n"
     ]
    }
   ],
   "source": [
    "X,y = make_classification(n_samples=100,n_features=2,n_informative=2,n_redundant=0,random_state=21)\n",
    "\n",
    "X_train,X_test,Y_train, Y_test = train_test_split(X,y,test_size=0.2,random_state=21)\n",
    "\n",
    "model = LogisticRegression()\n",
    "model.fit(X_train,Y_train)\n",
    "\n",
    "y_pred = model.predict(X_test)\n",
    "\n",
    "print(\"accuracy:\",accuracy_score(Y_test,y_pred))"
   ]
  },
  {
   "cell_type": "markdown",
   "id": "5367c276-9d2e-49e9-8e27-367a540b3d3d",
   "metadata": {},
   "source": [
    "Now I will give an example with the sigmoid function:\n"
   ]
  },
  {
   "cell_type": "code",
   "execution_count": 30,
   "id": "4f97eb70-f980-45c3-a7af-c138ed92f646",
   "metadata": {},
   "outputs": [
    {
     "data": {
      "image/png": "[encoded data removed]",
      "text/plain": [
       "<Figure size 800x400 with 1 Axes>"
      ]
     },
     "metadata": {},
     "output_type": "display_data"
    }
   ],
   "source": [
    "def sigmoid(z):\n",
    "    return 1/(1+np.exp(-z))\n",
    "\n",
    "z = np.linspace(-10,10,100)\n",
    "\n",
    "s = sigmoid(z)\n",
    "plt.figure(figsize=(8, 4))\n",
    "plt.plot(z, s, label=r'$\\sigma(z) = \\frac{1}{1 + e^{-z}}$', color='blue')\n",
    "plt.title(\"Sigmoid Activation Function\")\n",
    "plt.xlabel(\"z\")\n",
    "plt.ylabel(\"sigmoid(z)\")\n",
    "plt.grid(True)\n",
    "plt.legend()\n",
    "plt.show()"
   ]
  },
  {
   "cell_type": "markdown",
   "id": "62f6b4d7-1da5-45f7-99a0-22195ac56b9b",
   "metadata": {},
   "source": [
    "\n",
    "Here what we can see is:\n",
    "- The **S-shaped curve** (sigmoid) squashes any real-valued input into a number between **0 and 1**.\n",
    "- At $ z = 0 $, the output is exactly **0.5**.\n",
    "- As $ z \\to +\\infty $, the output approaches **1**.\n",
    "- As $ z \\to -\\infty $, the output approaches **0**."
   ]
  },
  {
   "cell_type": "markdown",
   "id": "9c645706-229b-44cf-bc83-c54555875371",
   "metadata": {},
   "source": [
    "#### Multinomial Logistic Regression ####\n",
    "\n",
    "Many times our data is not binary and the target variables can be more than 2 (also not ordered). In such cases, we use the **softmax function** instead of the sigmoid function. The softmax function generalizes the logistic function to multiple classes and ensures that the predicted probabilities for each class sum to 1.\n",
    "\n",
    "The softmax function for class \\( k \\) is given by:\n",
    "\n",
    "\n",
    "$$\\text{softmax}(\\mathbf{z_i}) = \\frac{e^{z_i}}{\\sum_{j=1}^K e^{z_j}}$$\n",
    "\n",
    "Where:\n",
    "\n",
    "- $ z_i $ is the input to the softmax function for class $k$,\n",
    "- $ K $ is the total number of classes,\n",
    "- The denominator sums over all possible classes to normalize the outputs into a valid probability distribution.\n",
    "\n",
    "\n",
    "The next example is close to the one before but contains more than 2 possible discrete outputs"
   ]
  },
  {
   "cell_type": "code",
   "execution_count": 31,
   "id": "1e0a6170-129a-4d52-af2b-c42423c75c58",
   "metadata": {},
   "outputs": [
    {
     "name": "stdout",
     "output_type": "stream",
     "text": [
      "Logistic Regression model accuracy: 96.66%\n"
     ]
    }
   ],
   "source": [
    "\n",
    "digits = datasets.load_digits()\n",
    "\n",
    "X = digits.data\n",
    "y = digits.target\n",
    "\n",
    "X_train, X_test, y_train, y_test = train_test_split(X, y, test_size=0.4, random_state=1)\n",
    "\n",
    "reg = linear_model.LogisticRegression(max_iter=10000, random_state=0)\n",
    "reg.fit(X_train, y_train)\n",
    "\n",
    "y_pred = reg.predict(X_test)\n",
    "\n",
    "print(f\"Logistic Regression model accuracy: {metrics.accuracy_score(y_test, y_pred) * 100:.2f}%\")"
   ]
  },
  {
   "cell_type": "markdown",
   "id": "0f2e3ddc-2de4-451d-a50f-ea07cc17fffe",
   "metadata": {},
   "source": [
    "### Evaluation ###\n",
    "To evaluate the performance of a multinomial logistic regression model, we typically use:\n",
    "\n",
    "- **Accuracy**: The proportion of correctly predicted labels out of all predictions.\n",
    "- **Confusion Matrix**: A table showing correct and incorrect predictions broken down by each class.\n",
    "- **Precision, Recall, F1-Score**: Useful for imbalanced datasets to measure performance per class.\n",
    "- **Log Loss (Cross-Entropy Loss)**: Measures how close the predicted probabilities are to the true labels.\n",
    "\n",
    "Scikit-learn provides tools like `classification_report`, `confusion_matrix`, and `log_loss` to help with this evaluation.\n",
    "\n",
    "More you can read [here](https://www.geeksforgeeks.org/understanding-logistic-regression/)"
   ]
  },
  {
   "cell_type": "markdown",
   "id": "3592ae34-0061-41d8-9b38-8e23f500a8fb",
   "metadata": {},
   "source": [
    "### Variance inflation vactor ###"
   ]
  },
  {
   "cell_type": "markdown",
   "id": "8b497f39-07c8-4da0-a4be-81a8b53e935c",
   "metadata": {},
   "source": [
    "## Decision trees ##\n",
    "\n",
    "Decision trees are used both in regression and classification tasks, helping us to take easy decisions. It splits the data into subsets based on feature values. It has **nodes, branches and leafes** where each node is a feature, each branch is a decision, each leaf is a prediction. The difference between regression trees and classification trees is that classification trees **classifies into categories**, whereas regression trees predicts a numeric value."
   ]
  },
  {
   "cell_type": "markdown",
   "id": "6eab80d8-0a56-4beb-acc0-e26f88fccb2d",
   "metadata": {},
   "source": [
    "![decision tree](https://storage.googleapis.com/algodailyrandomassets/curriculum/Data_Science/Getting%20to%20Know%20Decision%20Trees/decision_tree.png)"
   ]
  },
  {
   "cell_type": "markdown",
   "id": "b080f947-ecb2-48e9-ae18-ae2a9221cee5",
   "metadata": {},
   "source": [
    "Considering the fact that there are many different features a reasonable question is from which one we should start. There are a couple of methods to decide.\n",
    "- **Gini impurity** (classification)\n",
    "- **Entropy / Information Gain** (classification)\n",
    "- **MSE**(regression)"
   ]
  },
  {
   "cell_type": "markdown",
   "id": "ea96aeb5-dd8a-4796-9ba0-02a06cbf1719",
   "metadata": {},
   "source": [
    "##pruning"
   ]
  },
  {
   "cell_type": "markdown",
   "id": "6ed2a336-d4f9-494f-8cb0-bf9baee60011",
   "metadata": {},
   "source": [
    "###  Gini Impurity Explained\n",
    "\n",
    "**Gini Impurity** is a metric used in decision trees (especially in classification tasks) to evaluate how \"pure\" a node is.\n",
    "\n",
    "A node is **pure** if all the data points in it belong to the same class. The Gini Impurity measures the probability that a randomly chosen element would be incorrectly labeled if it were randomly labeled according to the distribution of labels in the node.\n",
    "\n",
    "![Gini](https://storage.googleapis.com/lds-media/images/gini-impurity-diagram.width-1200.png)\n",
    "\n",
    "\n",
    "#### Formula:\n",
    "\n",
    "For a node with $ K $ classes, Gini Impurity is defined as:\n",
    "\n",
    "$$\n",
    "G = 1 - \\sum_{i=1}^{K} p_i^2\n",
    "$$\n",
    "\n",
    "Where:\n",
    "- $ p_i $ is the probability (or proportion) of class $ i $ in the node.\n",
    "- $ K $ is the number of classes.\n",
    "\n",
    "\n",
    "That means:\n",
    "\n",
    "- If all examples belong to **one class**, \\( G = 0 \\) → **perfect purity**.\n",
    "- If the classes are **evenly distributed**, \\( G \\) is at its **maximum** → **high impurity**.\n",
    "\n",
    "\n",
    "\n",
    "#### Example:\n",
    "\n",
    "Suppose we have a node with the following distribution:\n",
    "\n",
    "- 4 samples of class A\n",
    "- 6 samples of class B\n",
    "\n",
    "Then:\n",
    "\n",
    "$$\n",
    "p_A = \\frac{4}{10}, \\quad p_B = \\frac{6}{10}\n",
    "$$\n",
    "\n",
    "$$\n",
    "G = 1 - (0.4^2 + 0.6^2) = 1 - (0.16 + 0.36) = 1 - 0.52 = 0.48\n",
    "$$\n",
    "\n",
    "So the impurity of this node is **0.48**.\n",
    "\n",
    "\n",
    "####  What is the advantage?\n",
    "\n",
    "- Gini is fast to compute and works well in practice.\n",
    "- It is the default in many libraries (e.g., `sklearn.tree.DecisionTreeClassifier`).\n",
    "\n"
   ]
  },
  {
   "cell_type": "markdown",
   "id": "1e8cc349-cd37-4892-b07b-1a8fb9f592b2",
   "metadata": {},
   "source": [
    "### Information Entropy in Decision Trees\n",
    "\n",
    "**Entropy** is a fundamental concept from information theory that measures the amount of **uncertainty** or **impurity** in a dataset.\n",
    "\n",
    "In decision trees (like ID3), entropy is used to decide which feature to split on by measuring how \"mixed\" the class labels are at a given node.\n",
    "\n",
    "\n",
    "### The formula ###\n",
    "\n",
    "For a dataset with $ K $ classes and probabilities $ p_1, p_2, ..., p_K $:\n",
    "\n",
    "$\n",
    "\\text{Entropy}(S) = - \\sum_{i=1}^{K} p_i \\log_2(p_i)\n",
    "$\n",
    "\n",
    "Where:\n",
    "- $ p_i $ is the proportion of elements in class $ i $\n",
    "- The log is base 2 (measuring bits of information)\n",
    "\n",
    "\n",
    "Keeping that in mind:\n",
    "\n",
    "\n",
    "- If the dataset is **pure** (all examples belong to one class), entropy = 0 (no uncertainty).\n",
    "- If the dataset is **uniformly mixed** (e.g., 50% class A, 50% class B), entropy is **maximum**.\n",
    "\n",
    "| Class Distribution         | Entropy       |\n",
    "|---------------------------|---------------|\n",
    "| 100% A                    | 0             |\n",
    "| 50% A, 50% B              | 1 (max for 2 classes) |\n",
    "| 70% A, 30% B              | ~0.88         |\n",
    "\n",
    "\n",
    "\n",
    "### In decision trees ###\n",
    "\n",
    "When building a decision tree:\n",
    "1. We calculate the **entropy of the parent node**.\n",
    "2. We try different feature splits and compute the **entropy of the child nodes**.\n",
    "3. We use **Information Gain** to measure how much the split reduces entropy:\n",
    "\n",
    "$\n",
    "\\text{Information Gain} = \\text{Entropy(parent)} - \\sum \\left( \\frac{|S_v|}{|S|} \\cdot \\text{Entropy}(S_v) \\right)\n",
    "$\n",
    "\n",
    "Where:\n",
    "- $ S $ is the set before the split\n",
    "- $ S_v $ are the subsets created by splitting on a feature\n",
    "\n",
    "We choose the feature with the **highest information gain** for the split.\n",
    "\n",
    "\n",
    "\n",
    "That means:\n",
    "\n",
    "- **Entropy** quantifies uncertainty in the class labels.\n",
    "- **Information Gain** is the reduction in entropy after a dataset is split.\n",
    "- **The goal is to build a tree that splits data in a way that quickly reduces entropy and leads to pure leaf nodes.**\n",
    "\n",
    "\n",
    "However we must note that overfitting is possible and reducing the entropy to 0 is not the best possible approach"
   ]
  },
  {
   "cell_type": "markdown",
   "id": "18ec4671-644c-40d1-9774-8fb7278fb660",
   "metadata": {},
   "source": [
    "### Example: Entropy and Information Gain\n",
    "\n",
    "We want to decide whether to play tennis based on the weather. Here's a simplified dataset:\n",
    "\n",
    "| Outlook   | Play Tennis |\n",
    "|-----------|-------------|\n",
    "| Sunny     | No          |\n",
    "| Sunny     | No          |\n",
    "| Overcast  | Yes         |\n",
    "| Rainy     | Yes         |\n",
    "| Rainy     | No          |\n",
    "| Rainy     | Yes         |\n",
    "| Overcast  | Yes         |\n",
    "| Sunny     | Yes         |\n",
    "| Sunny     | Yes         |\n",
    "| Rainy     | Yes         |\n",
    "| Sunny     | No          |\n",
    "| Overcast  | Yes         |\n",
    "| Overcast  | Yes         |\n",
    "| Rainy     | No          |\n",
    "\n",
    "We have:\n",
    "- 9 \"Yes\"  \n",
    "- 5 \"No\"  \n",
    "- Total: 14 samples\n",
    "\n",
    "\n",
    "## Step 1: Total Entropy\n",
    "\n",
    "$$\n",
    "\\text{Entropy}(S) = -p_{\\text{Yes}} \\log_2(p_{\\text{Yes}}) - p_{\\text{No}} \\log_2(p_{\\text{No}})\n",
    "$$\n",
    "\n",
    "$$\n",
    "p_{\\text{Yes}} = \\frac{9}{14}, \\quad p_{\\text{No}} = \\frac{5}{14}\n",
    "$$\n",
    "\n",
    "$$\n",
    "\\text{Entropy}(S) = -\\frac{9}{14} \\log_2\\left(\\frac{9}{14}\\right) - \\frac{5}{14} \\log_2\\left(\\frac{5}{14}\\right) \\approx 0.940\n",
    "$$\n",
    "\n",
    "\n",
    "## Step 2: Entropy for \"Outlook\"\n",
    "\n",
    "We divide the dataset by the values of the `Outlook` feature.\n",
    "\n",
    "### Outlook = Sunny (5 samples):  \n",
    "- 2 Yes, 3 No\n",
    "\n",
    "$$\n",
    "\\text{Entropy}_{\\text{Sunny}} = -\\frac{2}{5} \\log_2\\left(\\frac{2}{5}\\right) - \\frac{3}{5} \\log_2\\left(\\frac{3}{5}\\right) \\approx 0.971\n",
    "$$\n",
    "\n",
    "### Outlook = Overcast (4 samples):  \n",
    "- 4 Yes → Pure class\n",
    "\n",
    "$$\n",
    "\\text{Entropy}_{\\text{Overcast}} = -1 \\cdot \\log_2(1) = 0\n",
    "$$\n",
    "\n",
    "### Outlook = Rainy (5 samples):  \n",
    "- 3 Yes, 2 No\n",
    "\n",
    "$$\n",
    "\\text{Entropy}_{\\text{Rainy}} = -\\frac{3}{5} \\log_2\\left(\\frac{3}{5}\\right) - \\frac{2}{5} \\log_2\\left(\\frac{2}{5}\\right) \\approx 0.971\n",
    "$$\n",
    "\n",
    "\n",
    "### Step 3: Information Gain for \"Outlook\"\n",
    "\n",
    "We calculate the weighted average entropy after the split:\n",
    "\n",
    "$$\n",
    "\\text{Entropy}_{\\text{after split}} = \\frac{5}{14} \\cdot 0.971 + \\frac{4}{14} \\cdot 0 + \\frac{5}{14} \\cdot 0.971\n",
    "$$\n",
    "\n",
    "$$\n",
    "= 0.3475 + 0 + 0.3475 = 0.695\n",
    "$$\n",
    "\n",
    "Now compute Information Gain:\n",
    "\n",
    "$$\n",
    "\\text{Information Gain} = \\text{Entropy}_{\\text{parent}} - \\text{Entropy}_{\\text{after split}}\n",
    "$$\n",
    "\n",
    "$$\n",
    "\\text{IG(Outlook)} = 0.940 - 0.695 = \\mathbf{0.245}\n",
    "$$\n",
    "\n",
    "\n",
    "### Conclusion\n",
    "\n",
    "- Entropy quantifies uncertainty (impurity) in class labels.\n",
    "- Information Gain tells us how much entropy is reduced after a split.\n",
    "- The feature with the **highest Information Gain** is chosen to split the node.\n",
    "\n",
    "In the example shown we did not have to compare how different features would reduce the entropy for simplicity of the example."
   ]
  },
  {
   "cell_type": "code",
   "execution_count": 1,
   "id": "2d1c6c83-2daf-4677-bb6a-771e41c14209",
   "metadata": {},
   "outputs": [],
   "source": [
    "## write it in code ##"
   ]
  },
  {
   "cell_type": "markdown",
   "id": "63c736de-1726-4f3e-aef4-ad48e0b2a993",
   "metadata": {},
   "source": [
    "### Problems with decision trees ###\n",
    "\n",
    "\n",
    "\n",
    "\n",
    "#### 1. **Overfitting**\n",
    "- Decision trees are prone to overfitting, especially when they are too deep. They can model the noise in the data, leading to poor generalization.\n",
    "\n",
    "#### **Solution**: \n",
    "- Pruning and regularization (limiting tree depth, minimum samples for split).\n",
    "\n",
    "\n",
    "\n",
    "#### 2. **Instability**\n",
    "- A small change in the data can result in a completely different tree structure.\n",
    "\n",
    "#### **Solution**:\n",
    "- **Ensemble methods** like **Random Forests** or **Gradient Boosting** help stabilize predictions by averaging results from multiple trees.\n",
    "\n",
    "\n",
    "\n",
    "#### 3. **High Variance**\n",
    "- Decision trees have high variance and perform well on training data but poorly on unseen data (overfitting).\n",
    "\n",
    "#### **Solution**:\n",
    "- Ensemble techniques reduce variance, improving generalization.\n",
    "\n",
    "\n",
    "\n",
    "#### 4. **Poor Handling of Complex Relationships**\n",
    "- Decision trees struggle with complex, non-linear relationships and might not model data patterns effectively.\n",
    "\n",
    "#### **Solution**:\n",
    "- **Random Forest** or **Gradient Boosting** can capture complex relationships better.\n",
    "\n",
    "\n",
    "\n",
    "#### 5. **Interpretability Issues in Deep Trees**\n",
    "- While decision trees are easy to understand, deep trees can become complex and hard to interpret.\n",
    "\n",
    "#### **Solution**:\n",
    "- Limiting depth through pruning helps maintain interpretability.\n",
    "\n",
    "\n",
    "\n",
    "#### Conclusion:\n",
    "While decision trees are simple and effective, their limitations (overfitting, instability, and poor handling of complexity) can be overcome using **Random Forests** or **Gradient Boosting**, which aggregate multiple decision trees to improve stability and accuracy.\n"
   ]
  },
  {
   "cell_type": "markdown",
   "id": "0e47c52a-ffb1-44d8-b382-09d93f7f888b",
   "metadata": {},
   "source": [
    "## Random forest ##"
   ]
  },
  {
   "cell_type": "markdown",
   "id": "477d2d0a-8047-4bba-a0f7-6a469201a849",
   "metadata": {},
   "source": [
    "Now that we have already explained the basics of decision trees we will move to a better version of them. First of all let us go through the definition of a random forest.\n",
    "\n",
    "#### What is it? \n",
    "A Random Forest is an ensemble learning technique that combines multiple decision trees to improve accuracy and reduce overfitting. It belongs to the family of bagging algorithms (Bootstrap Aggregating).\n",
    "\n",
    "First of all **ensemble methods combine the predictions from multiple models to make a final prediction**\n",
    "#### How do we do it?\n",
    "\n",
    "#### 1. Bootstrapping (Sampling with Replacement)\n",
    "\n",
    "- Randomly sample the original dataset **with replacement** to create multiple new training datasets.\n",
    "- Each of these **bootstrap samples** may contain some **duplicated examples** from the original dataset.\n",
    "\n",
    "\n",
    "#### 2. Training Multiple Decision Trees\n",
    "\n",
    "- Build a separate **decision tree** for each bootstrap sample.\n",
    "- Trees are **not built using all features**.\n",
    "- At **each node**, only a **random subset of features** is considered for splitting.  \n",
    "  → This introduces **additional randomness** and reduces correlation between trees.\n",
    "\n",
    "\n",
    "#### 3. Making Predictions\n",
    "\n",
    "- **For Classification**:  \n",
    "  Each tree makes a class prediction → The final result is the **majority vote** across all trees.\n",
    "\n",
    "- **For Regression**:  \n",
    "  Each tree outputs a numerical value → The final result is the **average** of these outputs.\n",
    "\n",
    "\n",
    "\n",
    "#### 4. Final Result\n",
    "\n",
    "- The **Random Forest** model combines all the individual tree predictions to make a final prediction.\n",
    "- This generally improves:\n",
    "  - **Accuracy**\n",
    "  - **Robustness**\n",
    "  - **Generalization** over a single decision tree.\n",
    "\n",
    "\n",
    "## Out-of-Bag (OOB) Evaluation\n",
    "\n",
    "- When creating each bootstrap sample (training subset), **some data points are left out** — these are called **Out-of-Bag (OOB)** samples.\n",
    "- On average, about **1/3 of the data** is not included in each bootstrap sample.\n",
    "- These OOB samples are then used to **test the performance** of the corresponding tree.\n",
    "- By aggregating the predictions for all OOB samples across all trees, we get a reliable estimate of the model’s **generalization error** — without needing a separate validation set.\n",
    "\n",
    "###  Benefits:\n",
    "- Efficient and **free validation** (no need for cross-validation).\n",
    "- Helps prevent **overfitting** during training.\n",
    "\n",
    "\n",
    "At the end having the generalization error we could **change the number of used feature** and create the best random forest possible. \n"
   ]
  },
  {
   "cell_type": "code",
   "execution_count": 7,
   "id": "125e5876-0839-4121-a168-68c2302f66a3",
   "metadata": {},
   "outputs": [
    {
     "name": "stdout",
     "output_type": "stream",
     "text": [
      "sepal length (cm)\n",
      "🎯 Accuracy on Test Set: 1.0\n",
      "\n",
      "📋 Classification Report:\n",
      "               precision    recall  f1-score   support\n",
      "\n",
      "           0       1.00      1.00      1.00        10\n",
      "           1       1.00      1.00      1.00         9\n",
      "           2       1.00      1.00      1.00        11\n",
      "\n",
      "    accuracy                           1.00        30\n",
      "   macro avg       1.00      1.00      1.00        30\n",
      "weighted avg       1.00      1.00      1.00        30\n",
      "\n",
      "🧪 Out-of-Bag Score: 0.9166666666666666\n"
     ]
    },
    {
     "name": "stderr",
     "output_type": "stream",
     "text": [
      "C:\\Users\\mitko\\AppData\\Local\\Programs\\Python\\Python311\\Lib\\site-packages\\IPython\\core\\pylabtools.py:170: UserWarning: Glyph 127794 (\\N{EVERGREEN TREE}) missing from font(s) DejaVu Sans.\n",
      "  fig.canvas.print_figure(bytes_io, **kw)\n"
     ]
    },
    {
     "data": {
      "image/png": "[encoded data removed]",
      "text/plain": [
       "<Figure size 800x500 with 1 Axes>"
      ]
     },
     "metadata": {},
     "output_type": "display_data"
    }
   ],
   "source": [
    "# 🌳 Random Forest Example with Iris Dataset\n",
    "\n",
    "from sklearn.datasets import load_iris\n",
    "from sklearn.ensemble import RandomForestClassifier\n",
    "from sklearn.model_selection import train_test_split\n",
    "from sklearn.metrics import accuracy_score, classification_report\n",
    "import pandas as pd\n",
    "import matplotlib.pyplot as plt\n",
    "\n",
    "# 1. Load dataset\n",
    "iris = load_iris()\n",
    "X = pd.DataFrame(iris.data, columns=iris.feature_names)\n",
    "y = iris.target\n",
    "\n",
    "\n",
    "X_train, X_test, y_train, y_test = train_test_split(X, y, test_size=0.2, random_state=42)\n",
    "\n",
    "\n",
    "model = RandomForestClassifier(\n",
    "    n_estimators=100,          \n",
    "    oob_score=True,             # enable OOB evaluation\n",
    "    random_state=42\n",
    ")\n",
    "model.fit(X_train, y_train)\n",
    "\n",
    "\n",
    "y_pred = model.predict(X_test)\n",
    "\n",
    "\n",
    "print(\"🎯 Accuracy on Test Set:\", accuracy_score(y_test, y_pred))\n",
    "print(\"\\n📋 Classification Report:\\n\", classification_report(y_test, y_pred))\n",
    "print(\"🧪 Out-of-Bag Score:\", model.oob_score_)\n",
    "\n",
    "\n",
    "importances = model.feature_importances_\n",
    "features = X.columns\n",
    "plt.figure(figsize=(8, 5))\n",
    "plt.barh(features, importances, color='forestgreen')\n",
    "plt.xlabel(\"Feature Importance\")\n",
    "plt.title(\"🌲 Random Forest Feature Importance\")\n",
    "plt.grid(True, linestyle='--', alpha=0.6)\n",
    "plt.show()\n"
   ]
  },
  {
   "cell_type": "markdown",
   "id": "4c282617-cdc5-4cb0-85e5-3c4c0d3d8d6b",
   "metadata": {},
   "source": [
    "### References ###\n",
    "- https://www.bing.com/search?q=what+is+pruning+in+ml&cvid=36ac65e8385a446fbc35cccd24fdd0a4&gs_lcrp=EgRlZGdlKgYIABBFGDkyBggAEEUYOTIGCAEQABhAMgYIAhAAGEAyBggDEAAYQDIGCAQQABhAMgYIBRAAGEAyBggGEAAYQDIGCAcQABhA0gEIMzg5MmowajmoAgiwAgE&FORM=ANAB01&adppc=EDGEESS&PC=W069\n",
    "- https://www.youtube.com/watch?v=J4Wdy0Wc_xQ"
   ]
  },
  {
   "cell_type": "code",
   "execution_count": null,
   "id": "86cecbe4-bdb9-4987-ad37-71f2f1293ff8",
   "metadata": {},
   "outputs": [],
   "source": []
  }
 ],
 "metadata": {
  "kernelspec": {
   "display_name": "Python 3 (ipykernel)",
   "language": "python",
   "name": "python3"
  },
  "language_info": {
   "codemirror_mode": {
    "name": "ipython",
    "version": 3
   },
   "file_extension": ".py",
   "mimetype": "text/x-python",
   "name": "python",
   "nbconvert_exporter": "python",
   "pygments_lexer": "ipython3",
   "version": "3.11.4"
  }
 },
 "nbformat": 4,
 "nbformat_minor": 5
}
