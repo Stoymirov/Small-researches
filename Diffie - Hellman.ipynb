{
 "cells": [
  {
   "cell_type": "markdown",
   "id": "40ecae77-8117-485e-97bc-ca3b1aa54ff2",
   "metadata": {},
   "source": [
    "## Diffie - Hellman Key Exchange - explained and simulated ##"
   ]
  },
  {
   "cell_type": "markdown",
   "id": "d6039bb8-12d2-4a56-94e0-779d8d55608c",
   "metadata": {},
   "source": [
    "It is becoming more and more necessary to have security on the internet considering the great dangers coming with lots of information. Now I am going to take a look at one of the most popular ways to exchange information safely."
   ]
  },
  {
   "cell_type": "markdown",
   "id": "8690dc6c-77fd-49a9-a122-35b8d32341dd",
   "metadata": {},
   "source": [
    "## Definition ##"
   ]
  },
  {
   "cell_type": "markdown",
   "id": "4aa69458-f247-4b74-a951-d098dd0c79c9",
   "metadata": {},
   "source": [
    "The Diffie-Hellman key exchange is a cryptographic protocol that allows two parties to securely exchange cryptographic keys over a public channel. It’s based on the idea that, even though an eavesdropper can see the exchange of data, they cannot compute the shared secret without **solving a difficult mathematical problem** (discrete logarithm problem).\n",
    "\n",
    "Diffie-Hellman is widely used in protocols like SSL/TLS and VPNs.\n",
    "\n",
    "The idea is that some function are very hard to be inverted and the protocol uses exactly this to make the hacker's work mmore challenging or practically imposible."
   ]
  },
  {
   "cell_type": "markdown",
   "id": "7094b7fb-0466-4be0-b930-4d5235cafdf1",
   "metadata": {},
   "source": [
    "### How it is done ###"
   ]
  },
  {
   "cell_type": "markdown",
   "id": "38f11e58-037b-45a1-85ac-478e52ac66a6",
   "metadata": {},
   "source": [
    "Let us have two friends named Mario and Luiggi. Mario wants to send a picture of his new princess girlfriend but wants nobody apart from Luiggi to know that he is dating her. However there is a hacker who likes stealing other people's girlfriends. Therefore they both decide to put DIffie - Hellman into practice.\n",
    "\n",
    "1. They choose a **prime number _p_** and **a generator _q_** which are public.\n",
    "2. Each one generates their private keys let us say **a** and **b** intigers.\n",
    "3. Now they got to compute their real keys.\n",
    "* Mario has a key that is $A = g^a \\mod{p}$\n",
    "* Luiggi has a key that is $B = g^b \\mod{p}$\n",
    "\n",
    "4. After exchanging their keys and using the transformation $S_{A} =B^a \\mod{p}$ and $S_{B} = A^b \\mod{p}$ they both get the same keys."
   ]
  },
  {
   "cell_type": "code",
   "execution_count": 3,
   "id": "46428f90-12c4-41bd-9db8-8379d42d503c",
   "metadata": {},
   "outputs": [
    {
     "name": "stdout",
     "output_type": "stream",
     "text": [
      "Alice's public key (A): 8\n",
      "Bob's public key (B): 19\n",
      "Alice's computed shared secret (S_A): 2\n",
      "Bob's computed shared secret (S_B): 2\n"
     ]
    }
   ],
   "source": [
    "\n",
    "p = 23  \n",
    "g = 5  \n",
    "\n",
    "\n",
    "a = 6   \n",
    "b = 15 \n",
    "\n",
    "\n",
    "A = pow(g, a, p) \n",
    "B = pow(g, b, p)  \n",
    "\n",
    "\n",
    "S_A = pow(B, a, p) \n",
    "S_B = pow(A, b, p)\n",
    "\n",
    "\n",
    "print(\"Alice's public key (A):\", A)\n",
    "print(\"Bob's public key (B):\", B)\n",
    "print(\"Alice's computed shared secret (S_A):\", S_A)\n",
    "print(\"Bob's computed shared secret (S_B):\", S_B)\n"
   ]
  },
  {
   "cell_type": "code",
   "execution_count": 4,
   "id": "b4ab081b-21c2-4fd0-b690-aafb79db54b3",
   "metadata": {},
   "outputs": [
    {
     "name": "stdout",
     "output_type": "stream",
     "text": [
      "Ciphertext XOR gives message1 ⊕ message2:\n",
      "\u0012\u0011\u001a\u0005C\u0019\u001aF\u000b",
      "\u0013\u0014\u000b",
      "LENTS\n",
      "\n",
      "If we guess m1 starts with 'Attack', we can recover part of m2:\n",
      "Send re(:f+34+lents\n"
     ]
    }
   ],
   "source": [
    "def str_to_bytes(s):\n",
    "    return [ord(c) for c in s]\n",
    "\n",
    "def bytes_to_str(b):\n",
    "    return ''.join(chr(c) for c in b)\n",
    "\n",
    "def xor_bytes(b1, b2):\n",
    "    return [x ^ y for x, y in zip(b1, b2)]\n",
    "\n",
    "# Two messages\n",
    "m1 = \"Attack at dawn!\"\n",
    "m2 = \"Send reinforcements\"\n",
    "\n",
    "# Make them the same length\n",
    "m1 = m1.ljust(len(m2))\n",
    "m2 = m2.ljust(len(m1))\n",
    "\n",
    "# Convert to bytes\n",
    "b1 = str_to_bytes(m1)\n",
    "b2 = str_to_bytes(m2)\n",
    "\n",
    "# Generate a \"bad\" key reused for both\n",
    "import random\n",
    "random.seed(42)\n",
    "key = [random.randint(0, 255) for _ in range(len(b1))]\n",
    "\n",
    "# Encrypt both messages with the same key\n",
    "c1 = xor_bytes(b1, key)\n",
    "c2 = xor_bytes(b2, key)\n",
    "\n",
    "# Now attacker sees both ciphertexts and XORs them\n",
    "c1_xor_c2 = xor_bytes(c1, c2)\n",
    "\n",
    "# This gives us: m1 ⊕ m2\n",
    "print(\"Ciphertext XOR gives message1 ⊕ message2:\")\n",
    "print(bytes_to_str(c1_xor_c2))\n",
    "\n",
    "# Suppose we guess that m1 starts with \"Attack\"\n",
    "known = \"Attack\".ljust(len(c1_xor_c2))\n",
    "guess = str_to_bytes(known)\n",
    "\n",
    "# m2 = (m1 ⊕ m2) ⊕ guess\n",
    "m2_recovered = xor_bytes(c1_xor_c2, guess)\n",
    "\n",
    "print(\"\\nIf we guess m1 starts with 'Attack', we can recover part of m2:\")\n",
    "print(bytes_to_str(m2_recovered))\n"
   ]
  },
  {
   "cell_type": "code",
   "execution_count": 14,
   "id": "845afabb-93b8-4552-b82d-7e8fadca89c7",
   "metadata": {},
   "outputs": [
    {
     "name": "stdout",
     "output_type": "stream",
     "text": [
      "Message: [1 0 1 1 1 0 0 1]\n",
      "Key: [0 1 0 0 1 0 1 1]\n",
      "Encrypted: [1 1 1 1 0 0 1 0]\n",
      "Decrypted: [1 0 1 1 1 0 0 1]\n"
     ]
    }
   ],
   "source": [
    "import numpy as np\n",
    "\n",
    "def encrypt(message_bits,key_bits):\n",
    "    return np.bitwise_xor(message_bits,key_bits)\n",
    "\n",
    "def decrypt(cipher_bits, key_bits):\n",
    "    return np.bitwise_xor(cipher_bits, key_bits)\n",
    "\n",
    "msg = np.array([1,0,1,1,1,0,0,1],dtype =np.uint8)\n",
    "key = np.random.randint(0,2,size = msg.shape,dtype = np.uint8)\n",
    "cipher = encrypt(msg, key)\n",
    "recovered = decrypt(cipher, key)\n",
    "\n",
    "print(\"Message:\", msg)\n",
    "print(\"Key:\", key)\n",
    "print(\"Encrypted:\", cipher)\n",
    "print(\"Decrypted:\", recovered)\n"
   ]
  },
  {
   "cell_type": "code",
   "execution_count": null,
   "id": "58f1ab68-00a6-43f4-89d9-77afdf0cf475",
   "metadata": {},
   "outputs": [],
   "source": []
  }
 ],
 "metadata": {
  "kernelspec": {
   "display_name": "Python 3 (ipykernel)",
   "language": "python",
   "name": "python3"
  },
  "language_info": {
   "codemirror_mode": {
    "name": "ipython",
    "version": 3
   },
   "file_extension": ".py",
   "mimetype": "text/x-python",
   "name": "python",
   "nbconvert_exporter": "python",
   "pygments_lexer": "ipython3",
   "version": "3.11.4"
  }
 },
 "nbformat": 4,
 "nbformat_minor": 5
}
