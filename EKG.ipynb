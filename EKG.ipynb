{
 "cells": [
  {
   "cell_type": "code",
   "execution_count": 14,
   "id": "c0a897f0-9eff-4f65-923b-2ccc330c4d78",
   "metadata": {},
   "outputs": [],
   "source": [
    "import numpy as np\n",
    "from matplotlib import pyplot as plt\n",
    "from scipy.datasets import electrocardiogram\n",
    "import pooch"
   ]
  },
  {
   "cell_type": "markdown",
   "id": "0ed9fead-6464-460e-854a-a265691110e7",
   "metadata": {},
   "source": [
    "## EKG ##"
   ]
  },
  {
   "cell_type": "markdown",
   "id": "a10a4bec-05ff-4ac7-bf6a-f27e80d27bcf",
   "metadata": {},
   "source": [
    "### What is it? ###\n",
    "\n",
    "EKG stands for electrocardiogram. It is used to test the electrical activity of the heart and detect problems. Some things it does are:\n",
    "\n",
    " - Records how fast your heart is beating\n",
    " - Shows whether the rhythm is steady or irregular\n",
    " - Detects signs of heart disease, heart attacks, or abnormal heart function\n",
    "\n",
    "If we want to give a more mathematical definition it would be that it is a **1D time-series** recording the electrical activity of the heart over time, measured in **millivolts(mV)**\n",
    "\n",
    "Let us provide some plots.\n",
    "\n",
    " "
   ]
  },
  {
   "cell_type": "code",
   "execution_count": 19,
   "id": "d11d0fa5-a241-48e9-85e0-7eb64ea528ee",
   "metadata": {},
   "outputs": [],
   "source": [
    "# ecg = electrocardiogram()\n",
    "\n",
    "# # Sampling frequency in Hz\n",
    "# fs = 360  \n",
    "\n",
    "# # Time axis in seconds\n",
    "# time = np.arange(ecg.size) / fs\n",
    "\n",
    "# # Plot the first 5 seconds of the signal\n",
    "# plt.figure(figsize=(10, 4))\n",
    "# plt.plot(time[:5*fs], ecg[:5*fs])\n",
    "# plt.xlabel('Time (s)')\n",
    "# plt.ylabel('ECG signal (mV)')\n",
    "# plt.title('Electrocardiogram (First 5 seconds)')\n",
    "# plt.grid(True)\n",
    "# plt.tight_layout()\n",
    "# plt.show()\n"
   ]
  },
  {
   "cell_type": "markdown",
   "id": "61af7aaf-3115-4c54-8330-1d41630e1bc9",
   "metadata": {},
   "source": [
    "![image](https://th.bing.com/th/id/OIP.I0530a_YHoiGMIFSB5-2HAHaHa?w=170&h=180&c=7&r=0&o=5&dpr=1.8&pid=1.7)\n",
    "### Parts of an EKG Wave ###\n",
    "\n",
    "In the picture above we can see a picture of the EKG, with its main components. The signs shown are:\n",
    "- **P wave:** Atrial depolarization (atria contract)\n",
    "- **QRS complex:** Ventricular depolarization (ventricles contract)\n",
    "- **T wave:** Ventricular repolarization (ventricles reset)\n",
    "\n",
    "When looking at the main elements we should also considering taking a look at local maximums and minimums and how they are associated with these.\n",
    " - **Local maxima:** e.g., R-peaks - **most prominent feature in an EKG.\n",
    " - **Local minima:** e.g., Q and S points\n",
    "\n",
    " Having the extrema we can **measure important intervals (like QT,PR), calculate heart rate, perform heartbeat segmentation.** "
   ]
  },
  {
   "cell_type": "markdown",
   "id": "a08c8260-6823-4356-8de6-fa15718d58d5",
   "metadata": {},
   "source": [
    "### Importance of inflection points, convex / concave shapes ###"
   ]
  },
  {
   "cell_type": "markdown",
   "id": "c2412ab7-5513-46b0-b47c-8a482d12f23e",
   "metadata": {},
   "source": [
    "\n",
    "Analyzing EKG diagrams it is possible to detect various cardiac and even neurological conditions. Some of them are associated with convex or concave shapes in the important intervals.\n",
    "\n",
    "#### What are convex and concave ST elevations?\n",
    "The ST segment on an ECG represents the time **between the end of ventricular depolarization and the beginning of repolarization**. In a healthy heart, this segment is usually flat (isoelectric). Abnormal elevation or depression of this segment may indicate injury, inflammation, or stress to the heart or other systems.\n",
    "\n",
    "Here are some illnesses that are associated with concave and convex intervals:\n",
    "- **Pericarditis:**  causes widespread concave (“saddleback”) ST segment elevation with PR segment depression in multiple leads, typically involving I, II, III, aVF, aVL, and V2-6.\n",
    "- **Benign Early Repolarization:** There is slight concave ST elevation in the precordial and inferior leads with notching of the J-point (the “fish-hook” pattern)\n",
    "- **Raised Intracranial Pressure:** Widespread ST elevation with concave (pericarditis-like) morphology in a patient with severe traumatic brain injury.\n",
    "\n"
   ]
  },
  {
   "cell_type": "markdown",
   "id": "5caa8752-46a8-4e4a-8026-a03c364b1cb8",
   "metadata": {},
   "source": [
    "## References ##\n",
    "- https://litfl.com/st-segment-ecg-library/"
   ]
  },
  {
   "cell_type": "code",
   "execution_count": null,
   "id": "cde8dac2-559c-4d28-bad0-34feb7992645",
   "metadata": {},
   "outputs": [],
   "source": []
  }
 ],
 "metadata": {
  "kernelspec": {
   "display_name": "Python 3 (ipykernel)",
   "language": "python",
   "name": "python3"
  },
  "language_info": {
   "codemirror_mode": {
    "name": "ipython",
    "version": 3
   },
   "file_extension": ".py",
   "mimetype": "text/x-python",
   "name": "python",
   "nbconvert_exporter": "python",
   "pygments_lexer": "ipython3",
   "version": "3.11.4"
  }
 },
 "nbformat": 4,
 "nbformat_minor": 5
}
